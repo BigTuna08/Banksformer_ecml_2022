{
 "cells": [
  {
   "cell_type": "code",
   "execution_count": 1,
   "id": "9ccea793-9d78-4464-8340-fc7ecfd9a644",
   "metadata": {},
   "outputs": [],
   "source": [
    "!rm -r checkpoints/"
   ]
  },
  {
   "cell_type": "code",
   "execution_count": 2,
   "id": "99261dce-cda7-4ea9-b98a-1cad69a09050",
   "metadata": {},
   "outputs": [],
   "source": [
    "!rm -r stored_data/"
   ]
  },
  {
   "cell_type": "code",
   "execution_count": 3,
   "id": "59440b3b-0494-4dbe-9c14-805d9e8c1a17",
   "metadata": {},
   "outputs": [],
   "source": [
    "!rm -r generated_data/"
   ]
  },
  {
   "cell_type": "code",
   "execution_count": 4,
   "id": "f16758c7-311c-4d7a-87c1-24513407df56",
   "metadata": {},
   "outputs": [],
   "source": [
    "!rm -r generation_results/"
   ]
  },
  {
   "cell_type": "code",
   "execution_count": null,
   "id": "becbd894-3085-4748-9e35-f0c2bb0bf980",
   "metadata": {},
   "outputs": [],
   "source": []
  },
  {
   "cell_type": "code",
   "execution_count": 5,
   "id": "edfa0e9d-4636-4276-816a-cbe4296e56dd",
   "metadata": {},
   "outputs": [],
   "source": [
    "!mkdir checkpoints/"
   ]
  },
  {
   "cell_type": "code",
   "execution_count": 6,
   "id": "65452803-de06-4d46-ad16-0f6f790dccf7",
   "metadata": {},
   "outputs": [],
   "source": [
    "!mkdir stored_data/"
   ]
  },
  {
   "cell_type": "code",
   "execution_count": 7,
   "id": "20ba0ce2-f3e8-458d-a068-7a521c3aa0ba",
   "metadata": {},
   "outputs": [],
   "source": [
    "!mkdir generated_data/"
   ]
  },
  {
   "cell_type": "code",
   "execution_count": 8,
   "id": "a2bcf38b-4d1d-4d33-bf42-824738251191",
   "metadata": {},
   "outputs": [],
   "source": [
    "!mkdir generation_results/"
   ]
  },
  {
   "cell_type": "code",
   "execution_count": null,
   "id": "49c40b34-ef0f-49a7-a60a-3c2f95da6e68",
   "metadata": {},
   "outputs": [],
   "source": []
  }
 ],
 "metadata": {
  "kernelspec": {
   "display_name": "Python 3 (ipykernel)",
   "language": "python",
   "name": "python3"
  },
  "language_info": {
   "codemirror_mode": {
    "name": "ipython",
    "version": 3
   },
   "file_extension": ".py",
   "mimetype": "text/x-python",
   "name": "python",
   "nbconvert_exporter": "python",
   "pygments_lexer": "ipython3",
   "version": "3.9.7"
  }
 },
 "nbformat": 4,
 "nbformat_minor": 5
}
