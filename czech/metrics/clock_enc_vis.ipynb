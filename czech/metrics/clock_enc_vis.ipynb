{
 "cells": [
  {
   "cell_type": "code",
   "execution_count": 1,
   "id": "tutorial-mistake",
   "metadata": {},
   "outputs": [],
   "source": [
    "import os\n",
    "import sys\n",
    "import time\n",
    "import calendar\n",
    "import datetime\n",
    "\n",
    "import numpy as np\n",
    "import matplotlib.pyplot as plt\n",
    "import seaborn as sns\n",
    "import pandas as pd\n",
    "\n",
    "import scipy as sp\n",
    "from scipy import stats\n",
    "import tensorflow as tf\n",
    "\n",
    "# from my_lib.field_config import data_encoder"
   ]
  },
  {
   "cell_type": "code",
   "execution_count": null,
   "id": "9a9b50f9-bc25-44a7-8425-ca09012d85f6",
   "metadata": {},
   "outputs": [],
   "source": []
  },
  {
   "cell_type": "code",
   "execution_count": 2,
   "id": "fresh-darwin",
   "metadata": {},
   "outputs": [],
   "source": [
    "@np.vectorize\n",
    "def encode_time_value(val, max_val):\n",
    "    return np.sin(2* np.pi * val/max_val), np.cos(2*np.pi * val/max_val)\n",
    "\n"
   ]
  },
  {
   "cell_type": "code",
   "execution_count": 5,
   "id": "15e93216-7509-4eb3-bdb7-6d0ad18e2b9d",
   "metadata": {},
   "outputs": [],
   "source": []
  },
  {
   "cell_type": "raw",
   "id": "653a6be3-a1f1-4702-a20f-3c03e099e3c8",
   "metadata": {},
   "source": [
    "gen_ds_file = \"generated_data/generated_seqparts_log_fixed_dates-num_layers_dec_4-d_model_64-num_heads_4-i_0-dr_0__1-dff_64-opt_adam-l_loss_mse_lw2--tcodeb4date-len_80.csv\"\n",
    "gen_seq_len = 80\n",
    "gen_df = pd.read_csv(gen_ds_file)"
   ]
  },
  {
   "cell_type": "code",
   "execution_count": 17,
   "id": "2f26e420-1848-4c17-aae1-6e64d2baf4d8",
   "metadata": {},
   "outputs": [
    {
     "data": {
      "text/plain": [
       "['$D$',\n",
       " '$J$',\n",
       " '$F$',\n",
       " '$M$',\n",
       " '$A$',\n",
       " '$M$',\n",
       " '$J$',\n",
       " '$J$',\n",
       " '$A$',\n",
       " '$S$',\n",
       " '$O$',\n",
       " '$N$']"
      ]
     },
     "execution_count": 17,
     "metadata": {},
     "output_type": "execute_result"
    }
   ],
   "source": [
    "names = ['Dec', 'Jan', 'Feb', 'Mar', 'Apr', 'May', 'Jun', 'Jul', 'Aug', 'Sep', 'Oct', 'Nov']\n",
    "ms = [f\"${x[0]}$\" for x in names]\n",
    "\n",
    "ms"
   ]
  },
  {
   "cell_type": "code",
   "execution_count": 18,
   "id": "southeast-mountain",
   "metadata": {},
   "outputs": [
    {
     "data": {
      "image/png": "[encoded data removed]",
      "text/plain": [
       "<Figure size 360x360 with 1 Axes>"
      ]
     },
     "metadata": {
      "needs_background": "light"
     },
     "output_type": "display_data"
    }
   ],
   "source": [
    "max_val = 12\n",
    "\n",
    "markers = ms\n",
    "\n",
    "fig, ax = plt.subplots(1,1, figsize = (5,5))\n",
    "\n",
    "pts = [encode_time_value(x, max_val) for x in range(max_val)]\n",
    "x, y = zip(*pts)\n",
    "\n",
    "\n",
    "for xx, yy, mm in zip(x,y, markers):\n",
    "    ax.scatter(xx, yy ,marker=mm, s=200)\n",
    "plt.title(\"Clock encoding of Month\")\n",
    "plt.show()\n",
    "# ax.scatter(seq[:,:,start_i].numpy(), seq[:,:,start_i+1].numpy(), alpha=0.5)"
   ]
  },
  {
   "cell_type": "code",
   "execution_count": null,
   "id": "3c0a4a14-364b-409b-bf20-f6c1ee12ef56",
   "metadata": {},
   "outputs": [],
   "source": []
  },
  {
   "cell_type": "code",
   "execution_count": 9,
   "id": "2161dae2-086d-4a19-b6b0-c15de9a0cd1a",
   "metadata": {},
   "outputs": [
    {
     "data": {
      "text/plain": [
       "array([ 0.00000000e+00,  5.00000000e-01,  8.66025404e-01,  1.00000000e+00,\n",
       "        8.66025404e-01,  5.00000000e-01,  1.22464680e-16, -5.00000000e-01,\n",
       "       -8.66025404e-01, -1.00000000e+00, -8.66025404e-01, -5.00000000e-01])"
      ]
     },
     "execution_count": 9,
     "metadata": {},
     "output_type": "execute_result"
    }
   ],
   "source": [
    "np.array(x)"
   ]
  },
  {
   "cell_type": "code",
   "execution_count": 19,
   "id": "5f99d735-db18-49aa-aeda-7b50764f138a",
   "metadata": {},
   "outputs": [
    {
     "data": {
      "text/html": [
       "<div>\n",
       "<style scoped>\n",
       "    .dataframe tbody tr th:only-of-type {\n",
       "        vertical-align: middle;\n",
       "    }\n",
       "\n",
       "    .dataframe tbody tr th {\n",
       "        vertical-align: top;\n",
       "    }\n",
       "\n",
       "    .dataframe thead th {\n",
       "        text-align: right;\n",
       "    }\n",
       "</style>\n",
       "<table border=\"1\" class=\"dataframe\">\n",
       "  <thead>\n",
       "    <tr style=\"text-align: right;\">\n",
       "      <th></th>\n",
       "      <th>Month</th>\n",
       "      <th>Feat1</th>\n",
       "      <th>Feat2</th>\n",
       "    </tr>\n",
       "  </thead>\n",
       "  <tbody>\n",
       "    <tr>\n",
       "      <th>0</th>\n",
       "      <td>Dec</td>\n",
       "      <td>0.000</td>\n",
       "      <td>1.000</td>\n",
       "    </tr>\n",
       "    <tr>\n",
       "      <th>1</th>\n",
       "      <td>Jan</td>\n",
       "      <td>0.500</td>\n",
       "      <td>0.866</td>\n",
       "    </tr>\n",
       "    <tr>\n",
       "      <th>2</th>\n",
       "      <td>Feb</td>\n",
       "      <td>0.866</td>\n",
       "      <td>0.500</td>\n",
       "    </tr>\n",
       "    <tr>\n",
       "      <th>3</th>\n",
       "      <td>Mar</td>\n",
       "      <td>1.000</td>\n",
       "      <td>0.000</td>\n",
       "    </tr>\n",
       "    <tr>\n",
       "      <th>4</th>\n",
       "      <td>Apr</td>\n",
       "      <td>0.866</td>\n",
       "      <td>-0.500</td>\n",
       "    </tr>\n",
       "    <tr>\n",
       "      <th>5</th>\n",
       "      <td>May</td>\n",
       "      <td>0.500</td>\n",
       "      <td>-0.866</td>\n",
       "    </tr>\n",
       "    <tr>\n",
       "      <th>6</th>\n",
       "      <td>Jun</td>\n",
       "      <td>0.000</td>\n",
       "      <td>-1.000</td>\n",
       "    </tr>\n",
       "    <tr>\n",
       "      <th>7</th>\n",
       "      <td>Jul</td>\n",
       "      <td>-0.500</td>\n",
       "      <td>-0.866</td>\n",
       "    </tr>\n",
       "    <tr>\n",
       "      <th>8</th>\n",
       "      <td>Aug</td>\n",
       "      <td>-0.866</td>\n",
       "      <td>-0.500</td>\n",
       "    </tr>\n",
       "    <tr>\n",
       "      <th>9</th>\n",
       "      <td>Sep</td>\n",
       "      <td>-1.000</td>\n",
       "      <td>-0.000</td>\n",
       "    </tr>\n",
       "    <tr>\n",
       "      <th>10</th>\n",
       "      <td>Oct</td>\n",
       "      <td>-0.866</td>\n",
       "      <td>0.500</td>\n",
       "    </tr>\n",
       "    <tr>\n",
       "      <th>11</th>\n",
       "      <td>Nov</td>\n",
       "      <td>-0.500</td>\n",
       "      <td>0.866</td>\n",
       "    </tr>\n",
       "  </tbody>\n",
       "</table>\n",
       "</div>"
      ],
      "text/plain": [
       "   Month  Feat1  Feat2\n",
       "0    Dec  0.000  1.000\n",
       "1    Jan  0.500  0.866\n",
       "2    Feb  0.866  0.500\n",
       "3    Mar  1.000  0.000\n",
       "4    Apr  0.866 -0.500\n",
       "5    May  0.500 -0.866\n",
       "6    Jun  0.000 -1.000\n",
       "7    Jul -0.500 -0.866\n",
       "8    Aug -0.866 -0.500\n",
       "9    Sep -1.000 -0.000\n",
       "10   Oct -0.866  0.500\n",
       "11   Nov -0.500  0.866"
      ]
     },
     "execution_count": 19,
     "metadata": {},
     "output_type": "execute_result"
    }
   ],
   "source": [
    "m = [calendar.month_abbr[(i%12)+1] for i in range(12)]\n",
    "m = m[-1:] + m[:-1]\n",
    "\n",
    "x, y = zip(*[encode_time_value(x, 12) for x in range(12)])\n",
    "x, y, m\n",
    "\n",
    "\n",
    "df = pd.DataFrame.from_dict({\"Month\": m,\n",
    "                       \"Feat1\": np.array(x),\n",
    "                       \"Feat2\": np.array(y)})\n",
    "\n",
    "df.round(3)"
   ]
  },
  {
   "cell_type": "code",
   "execution_count": 20,
   "id": "f14bbbc2-ba63-4013-8777-1929b320220a",
   "metadata": {},
   "outputs": [
    {
     "data": {
      "image/png": "[encoded data removed]",
      "text/plain": [
       "<Figure size 360x360 with 1 Axes>"
      ]
     },
     "metadata": {
      "needs_background": "light"
     },
     "output_type": "display_data"
    }
   ],
   "source": [
    "max_val = 7\n",
    "ms = [f\"${x}$\" for x in  \"MTWTFSS\"]\n",
    "\n",
    "# start_i = clock_col_range[0]\n",
    "\n",
    "fig, ax = plt.subplots(1,1, figsize = (5,5))\n",
    "\n",
    "pts = [encode_time_value(x, max_val) for x in range(max_val)]\n",
    "x, y = zip(*pts)\n",
    "\n",
    "\n",
    "for xx, yy, mm in zip(x,y, ms):\n",
    "    ax.scatter(xx, yy ,marker=mm, s=200)\n",
    "plt.title(\"Clock encoding of DoW\")\n",
    "plt.show()\n",
    "# ax.scatter(seq[:,:,start_i].numpy(), seq[:,:,start_i+1].numpy(), alpha=0.5)"
   ]
  },
  {
   "cell_type": "code",
   "execution_count": 21,
   "id": "08f28635-3c4f-441b-8ab7-6f98b0162576",
   "metadata": {},
   "outputs": [
    {
     "data": {
      "image/png": "[encoded data removed]",
      "text/plain": [
       "<Figure size 360x360 with 1 Axes>"
      ]
     },
     "metadata": {
      "needs_background": "light"
     },
     "output_type": "display_data"
    }
   ],
   "source": [
    "max_val = 31\n",
    "ms = [f\"${x}$\" for x in  range(1,32)]\n",
    "\n",
    "# start_i = clock_col_range[0]\n",
    "\n",
    "fig, ax = plt.subplots(1,1, figsize = (5,5))\n",
    "\n",
    "pts = [encode_time_value(x, max_val) for x in range(max_val)]\n",
    "x, y = zip(*pts)\n",
    "\n",
    "\n",
    "for xx, yy, mm in zip(x,y, ms):\n",
    "    ax.scatter(xx, yy ,marker=mm, s=200)\n",
    "plt.title(\"Clock encoding of DoM\")\n",
    "plt.show()\n",
    "# ax.scatter(seq[:,:,start_i].numpy(), seq[:,:,start_i+1].numpy(), alpha=0.5)"
   ]
  },
  {
   "cell_type": "code",
   "execution_count": null,
   "id": "chinese-liabilities",
   "metadata": {},
   "outputs": [],
   "source": []
  },
  {
   "cell_type": "code",
   "execution_count": null,
   "id": "87ce6227-ae7f-4946-a446-a765b847f09a",
   "metadata": {},
   "outputs": [],
   "source": []
  },
  {
   "cell_type": "code",
   "execution_count": null,
   "id": "68809236-d3f7-422f-945c-e210a1eac23e",
   "metadata": {},
   "outputs": [],
   "source": []
  }
 ],
 "metadata": {
  "kernelspec": {
   "display_name": "Python 3 (ipykernel)",
   "language": "python",
   "name": "python3"
  },
  "language_info": {
   "codemirror_mode": {
    "name": "ipython",
    "version": 3
   },
   "file_extension": ".py",
   "mimetype": "text/x-python",
   "name": "python",
   "nbconvert_exporter": "python",
   "pygments_lexer": "ipython3",
   "version": "3.9.7"
  }
 },
 "nbformat": 4,
 "nbformat_minor": 5
}
