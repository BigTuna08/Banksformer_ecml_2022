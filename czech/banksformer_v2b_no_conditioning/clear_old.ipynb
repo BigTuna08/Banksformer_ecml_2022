{
 "cells": [
  {
   "cell_type": "code",
   "execution_count": 1,
   "id": "9ccea793-9d78-4464-8340-fc7ecfd9a644",
   "metadata": {},
   "outputs": [],
   "source": [
    "!rm -r checkpoints/"
   ]
  },
  {
   "cell_type": "code",
   "execution_count": 2,
   "id": "99261dce-cda7-4ea9-b98a-1cad69a09050",
   "metadata": {},
   "outputs": [],
   "source": [
    "!rm -r stored_data/"
   ]
  },
  {
   "cell_type": "code",
   "execution_count": 3,
   "id": "59440b3b-0494-4dbe-9c14-805d9e8c1a17",
   "metadata": {},
   "outputs": [],
   "source": [
    "!rm -r generated_data/"
   ]
  },
  {
   "cell_type": "code",
   "execution_count": 4,
   "id": "f16758c7-311c-4d7a-87c1-24513407df56",
   "metadata": {},
   "outputs": [],
   "source": [
    "!rm -r generation_results/"
   ]
  },
  {
   "cell_type": "code",
   "execution_count": null,
   "id": "ad8108cd-2977-4294-adba-1f49cf0d1b18",
   "metadata": {},
   "outputs": [],
   "source": []
  },
  {
   "cell_type": "code",
   "execution_count": 5,
   "id": "2cc49651-669b-4cd0-9b8c-3fbf45a15868",
   "metadata": {},
   "outputs": [],
   "source": [
    "!mkdir checkpoints/"
   ]
  },
  {
   "cell_type": "code",
   "execution_count": 6,
   "id": "1566e8d5-fc03-47aa-9fd0-2b34d3d2e4f0",
   "metadata": {},
   "outputs": [],
   "source": [
    "!mkdir stored_data/"
   ]
  },
  {
   "cell_type": "code",
   "execution_count": 7,
   "id": "ba7ecc7c-6ecf-44b4-b7ea-47fa467ca927",
   "metadata": {},
   "outputs": [],
   "source": [
    "!mkdir generated_data/"
   ]
  },
  {
   "cell_type": "code",
   "execution_count": 8,
   "id": "f05d0a8c-0755-4cff-a477-8565b7dc2796",
   "metadata": {},
   "outputs": [],
   "source": [
    "!mkdir generation_results/"
   ]
  }
 ],
 "metadata": {
  "kernelspec": {
   "display_name": "Python 3 (ipykernel)",
   "language": "python",
   "name": "python3"
  },
  "language_info": {
   "codemirror_mode": {
    "name": "ipython",
    "version": 3
   },
   "file_extension": ".py",
   "mimetype": "text/x-python",
   "name": "python",
   "nbconvert_exporter": "python",
   "pygments_lexer": "ipython3",
   "version": "3.9.7"
  }
 },
 "nbformat": 4,
 "nbformat_minor": 5
}
