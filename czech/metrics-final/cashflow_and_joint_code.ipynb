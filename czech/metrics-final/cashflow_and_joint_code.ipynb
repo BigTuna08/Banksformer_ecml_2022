{
 "cells": [
  {
   "cell_type": "code",
   "execution_count": 1,
   "id": "c1a0a759-53f2-4d9b-bedf-fff103440655",
   "metadata": {},
   "outputs": [],
   "source": [
    "import os\n",
    "import sys\n",
    "import time\n",
    "import calendar\n",
    "import datetime\n",
    "\n",
    "import numpy as np\n",
    "import matplotlib.pyplot as plt\n",
    "import seaborn as sns\n",
    "import pandas as pd\n",
    "\n",
    "import scipy as sp\n",
    "from scipy import stats\n",
    "# import tensorflow as tf"
   ]
  },
  {
   "cell_type": "code",
   "execution_count": 2,
   "id": "7bef3ea9-c448-4022-babd-1bd51bc77a89",
   "metadata": {},
   "outputs": [],
   "source": [
    "from scipy.stats import wasserstein_distance"
   ]
  },
  {
   "cell_type": "code",
   "execution_count": null,
   "id": "de09d27e-f233-48a4-8b1b-8d6788e95f3d",
   "metadata": {},
   "outputs": [],
   "source": []
  },
  {
   "cell_type": "code",
   "execution_count": 3,
   "id": "4966dee9-5e21-44f8-bb81-c018866e41ab",
   "metadata": {},
   "outputs": [
    {
     "data": {
      "text/html": [
       "<div>\n",
       "<style scoped>\n",
       "    .dataframe tbody tr th:only-of-type {\n",
       "        vertical-align: middle;\n",
       "    }\n",
       "\n",
       "    .dataframe tbody tr th {\n",
       "        vertical-align: top;\n",
       "    }\n",
       "\n",
       "    .dataframe thead th {\n",
       "        text-align: right;\n",
       "    }\n",
       "</style>\n",
       "<table border=\"1\" class=\"dataframe\">\n",
       "  <thead>\n",
       "    <tr style=\"text-align: right;\">\n",
       "      <th></th>\n",
       "      <th>k_symbol_num</th>\n",
       "      <th>operation_num</th>\n",
       "      <th>type_num</th>\n",
       "      <th>td</th>\n",
       "      <th>amount</th>\n",
       "      <th>age</th>\n",
       "      <th>account_id</th>\n",
       "      <th>datetime</th>\n",
       "      <th>k_symbol</th>\n",
       "      <th>operation</th>\n",
       "      <th>type</th>\n",
       "      <th>tcode</th>\n",
       "      <th>raw_amount</th>\n",
       "      <th>days_passed</th>\n",
       "    </tr>\n",
       "  </thead>\n",
       "  <tbody>\n",
       "    <tr>\n",
       "      <th>0</th>\n",
       "      <td>0</td>\n",
       "      <td>2</td>\n",
       "      <td>0</td>\n",
       "      <td>4.0</td>\n",
       "      <td>104.25</td>\n",
       "      <td>44.0</td>\n",
       "      <td>0</td>\n",
       "      <td>1996-04-17</td>\n",
       "      <td>NaN</td>\n",
       "      <td>NaN</td>\n",
       "      <td>CREDIT</td>\n",
       "      <td>nan__nan__CREDIT</td>\n",
       "      <td>104.25</td>\n",
       "      <td>4.0</td>\n",
       "    </tr>\n",
       "    <tr>\n",
       "      <th>1</th>\n",
       "      <td>0</td>\n",
       "      <td>3</td>\n",
       "      <td>1</td>\n",
       "      <td>18.0</td>\n",
       "      <td>288.76</td>\n",
       "      <td>44.0</td>\n",
       "      <td>0</td>\n",
       "      <td>1996-05-05</td>\n",
       "      <td>NaN</td>\n",
       "      <td>CASH WITHDRAWAL</td>\n",
       "      <td>DEBIT</td>\n",
       "      <td>nan__CASH WITHDRAWAL__DEBIT</td>\n",
       "      <td>-288.76</td>\n",
       "      <td>18.0</td>\n",
       "    </tr>\n",
       "    <tr>\n",
       "      <th>2</th>\n",
       "      <td>1</td>\n",
       "      <td>2</td>\n",
       "      <td>0</td>\n",
       "      <td>4.0</td>\n",
       "      <td>81.29</td>\n",
       "      <td>44.0</td>\n",
       "      <td>0</td>\n",
       "      <td>1996-05-09</td>\n",
       "      <td>INTEREST CREDITED</td>\n",
       "      <td>NaN</td>\n",
       "      <td>CREDIT</td>\n",
       "      <td>INTEREST CREDITED__nan__CREDIT</td>\n",
       "      <td>81.29</td>\n",
       "      <td>4.0</td>\n",
       "    </tr>\n",
       "    <tr>\n",
       "      <th>3</th>\n",
       "      <td>0</td>\n",
       "      <td>0</td>\n",
       "      <td>0</td>\n",
       "      <td>9.0</td>\n",
       "      <td>14286.56</td>\n",
       "      <td>44.0</td>\n",
       "      <td>0</td>\n",
       "      <td>1996-05-18</td>\n",
       "      <td>NaN</td>\n",
       "      <td>CREDIT IN CASH</td>\n",
       "      <td>CREDIT</td>\n",
       "      <td>nan__CREDIT IN CASH__CREDIT</td>\n",
       "      <td>14286.56</td>\n",
       "      <td>9.0</td>\n",
       "    </tr>\n",
       "    <tr>\n",
       "      <th>4</th>\n",
       "      <td>0</td>\n",
       "      <td>4</td>\n",
       "      <td>1</td>\n",
       "      <td>-1.0</td>\n",
       "      <td>3936.29</td>\n",
       "      <td>44.0</td>\n",
       "      <td>0</td>\n",
       "      <td>1996-05-17</td>\n",
       "      <td>NaN</td>\n",
       "      <td>REMITTANCE TO ANOTHER BANK</td>\n",
       "      <td>DEBIT</td>\n",
       "      <td>nan__REMITTANCE TO ANOTHER BANK__DEBIT</td>\n",
       "      <td>-3936.29</td>\n",
       "      <td>-1.0</td>\n",
       "    </tr>\n",
       "    <tr>\n",
       "      <th>...</th>\n",
       "      <td>...</td>\n",
       "      <td>...</td>\n",
       "      <td>...</td>\n",
       "      <td>...</td>\n",
       "      <td>...</td>\n",
       "      <td>...</td>\n",
       "      <td>...</td>\n",
       "      <td>...</td>\n",
       "      <td>...</td>\n",
       "      <td>...</td>\n",
       "      <td>...</td>\n",
       "      <td>...</td>\n",
       "      <td>...</td>\n",
       "      <td>...</td>\n",
       "    </tr>\n",
       "    <tr>\n",
       "      <th>399995</th>\n",
       "      <td>1</td>\n",
       "      <td>2</td>\n",
       "      <td>0</td>\n",
       "      <td>15.0</td>\n",
       "      <td>100.05</td>\n",
       "      <td>44.0</td>\n",
       "      <td>4999</td>\n",
       "      <td>1997-05-27</td>\n",
       "      <td>INTEREST CREDITED</td>\n",
       "      <td>NaN</td>\n",
       "      <td>CREDIT</td>\n",
       "      <td>INTEREST CREDITED__nan__CREDIT</td>\n",
       "      <td>100.05</td>\n",
       "      <td>15.0</td>\n",
       "    </tr>\n",
       "    <tr>\n",
       "      <th>399996</th>\n",
       "      <td>1</td>\n",
       "      <td>2</td>\n",
       "      <td>0</td>\n",
       "      <td>5.0</td>\n",
       "      <td>17.60</td>\n",
       "      <td>44.0</td>\n",
       "      <td>4999</td>\n",
       "      <td>1997-06-01</td>\n",
       "      <td>INTEREST CREDITED</td>\n",
       "      <td>NaN</td>\n",
       "      <td>CREDIT</td>\n",
       "      <td>INTEREST CREDITED__nan__CREDIT</td>\n",
       "      <td>17.60</td>\n",
       "      <td>5.0</td>\n",
       "    </tr>\n",
       "    <tr>\n",
       "      <th>399997</th>\n",
       "      <td>2</td>\n",
       "      <td>3</td>\n",
       "      <td>1</td>\n",
       "      <td>2.0</td>\n",
       "      <td>0.24</td>\n",
       "      <td>44.0</td>\n",
       "      <td>4999</td>\n",
       "      <td>1997-06-03</td>\n",
       "      <td>PAYMENT ON STATEMENT</td>\n",
       "      <td>CASH WITHDRAWAL</td>\n",
       "      <td>DEBIT</td>\n",
       "      <td>PAYMENT ON STATEMENT__CASH WITHDRAWAL__DEBIT</td>\n",
       "      <td>-0.24</td>\n",
       "      <td>2.0</td>\n",
       "    </tr>\n",
       "    <tr>\n",
       "      <th>399998</th>\n",
       "      <td>1</td>\n",
       "      <td>3</td>\n",
       "      <td>0</td>\n",
       "      <td>2.0</td>\n",
       "      <td>0.41</td>\n",
       "      <td>44.0</td>\n",
       "      <td>4999</td>\n",
       "      <td>1997-06-05</td>\n",
       "      <td>INTEREST CREDITED</td>\n",
       "      <td>CASH WITHDRAWAL</td>\n",
       "      <td>CREDIT</td>\n",
       "      <td>INTEREST CREDITED__CASH WITHDRAWAL__CREDIT</td>\n",
       "      <td>0.41</td>\n",
       "      <td>2.0</td>\n",
       "    </tr>\n",
       "    <tr>\n",
       "      <th>399999</th>\n",
       "      <td>1</td>\n",
       "      <td>2</td>\n",
       "      <td>0</td>\n",
       "      <td>1.0</td>\n",
       "      <td>0.24</td>\n",
       "      <td>44.0</td>\n",
       "      <td>4999</td>\n",
       "      <td>1997-06-06</td>\n",
       "      <td>INTEREST CREDITED</td>\n",
       "      <td>NaN</td>\n",
       "      <td>CREDIT</td>\n",
       "      <td>INTEREST CREDITED__nan__CREDIT</td>\n",
       "      <td>0.24</td>\n",
       "      <td>1.0</td>\n",
       "    </tr>\n",
       "  </tbody>\n",
       "</table>\n",
       "<p>400000 rows × 14 columns</p>\n",
       "</div>"
      ],
      "text/plain": [
       "        k_symbol_num  operation_num  type_num    td    amount   age  \\\n",
       "0                  0              2         0   4.0    104.25  44.0   \n",
       "1                  0              3         1  18.0    288.76  44.0   \n",
       "2                  1              2         0   4.0     81.29  44.0   \n",
       "3                  0              0         0   9.0  14286.56  44.0   \n",
       "4                  0              4         1  -1.0   3936.29  44.0   \n",
       "...              ...            ...       ...   ...       ...   ...   \n",
       "399995             1              2         0  15.0    100.05  44.0   \n",
       "399996             1              2         0   5.0     17.60  44.0   \n",
       "399997             2              3         1   2.0      0.24  44.0   \n",
       "399998             1              3         0   2.0      0.41  44.0   \n",
       "399999             1              2         0   1.0      0.24  44.0   \n",
       "\n",
       "        account_id   datetime              k_symbol  \\\n",
       "0                0 1996-04-17                   NaN   \n",
       "1                0 1996-05-05                   NaN   \n",
       "2                0 1996-05-09     INTEREST CREDITED   \n",
       "3                0 1996-05-18                   NaN   \n",
       "4                0 1996-05-17                   NaN   \n",
       "...            ...        ...                   ...   \n",
       "399995        4999 1997-05-27     INTEREST CREDITED   \n",
       "399996        4999 1997-06-01     INTEREST CREDITED   \n",
       "399997        4999 1997-06-03  PAYMENT ON STATEMENT   \n",
       "399998        4999 1997-06-05     INTEREST CREDITED   \n",
       "399999        4999 1997-06-06     INTEREST CREDITED   \n",
       "\n",
       "                         operation    type  \\\n",
       "0                              NaN  CREDIT   \n",
       "1                  CASH WITHDRAWAL   DEBIT   \n",
       "2                              NaN  CREDIT   \n",
       "3                   CREDIT IN CASH  CREDIT   \n",
       "4       REMITTANCE TO ANOTHER BANK   DEBIT   \n",
       "...                            ...     ...   \n",
       "399995                         NaN  CREDIT   \n",
       "399996                         NaN  CREDIT   \n",
       "399997             CASH WITHDRAWAL   DEBIT   \n",
       "399998             CASH WITHDRAWAL  CREDIT   \n",
       "399999                         NaN  CREDIT   \n",
       "\n",
       "                                               tcode  raw_amount  days_passed  \n",
       "0                                   nan__nan__CREDIT      104.25          4.0  \n",
       "1                        nan__CASH WITHDRAWAL__DEBIT     -288.76         18.0  \n",
       "2                     INTEREST CREDITED__nan__CREDIT       81.29          4.0  \n",
       "3                        nan__CREDIT IN CASH__CREDIT    14286.56          9.0  \n",
       "4             nan__REMITTANCE TO ANOTHER BANK__DEBIT    -3936.29         -1.0  \n",
       "...                                              ...         ...          ...  \n",
       "399995                INTEREST CREDITED__nan__CREDIT      100.05         15.0  \n",
       "399996                INTEREST CREDITED__nan__CREDIT       17.60          5.0  \n",
       "399997  PAYMENT ON STATEMENT__CASH WITHDRAWAL__DEBIT       -0.24          2.0  \n",
       "399998    INTEREST CREDITED__CASH WITHDRAWAL__CREDIT        0.41          2.0  \n",
       "399999                INTEREST CREDITED__nan__CREDIT        0.24          1.0  \n",
       "\n",
       "[400000 rows x 14 columns]"
      ]
     },
     "execution_count": 3,
     "metadata": {},
     "output_type": "execute_result"
    }
   ],
   "source": [
    "gen_ds_file = \"generated_data/h-gen_v2b__nld_4-dm_128-nh_2-i_0-dr_0__1-opt_adam-lwi_0-bs_64--vf1-len_80-v2.csv\"\n",
    "fgen_file = \"generated_data/f-czech-700__epoch-1000_bs-200_lr-g0005-d0005-a0005_epoch_id-299.csv\"\n",
    "tg_file = \"generated_data/h-gtg_0-hd_24-nl_4-bs_32--len_80.csv\"\n",
    "\n",
    "\n",
    "gen_df = pd.read_csv(gen_ds_file, parse_dates=[\"date\"])\n",
    "gen_df[\"datetime\"] = gen_df[\"date\"]\n",
    "gen_df\n",
    "\n",
    "\n",
    "real_df = pd.read_csv(f\"real_data/final_df--czech.csv\", parse_dates=[\"datetime\"])\n",
    "real_df[\"days_passed\"] = real_df[\"td\"]\n",
    "\n",
    "real_df[\"Amount\"] = real_df.amount\n",
    "real_df.amount = real_df.amount.apply(abs)\n",
    "\n",
    "fgen_df = pd.read_csv(fgen_file, parse_dates=[\"datetime\"])\n",
    "fgen_df[\"tcode\"] = fgen_df.tcode.apply(lambda x: x.replace(\"---\", \"--\"))\n",
    "\n",
    "\n",
    "tg_df = pd.read_csv(tg_file, parse_dates=['datetime'])\n",
    "tg_df[\"days_passed\"] = tg_df[\"td\"]\n",
    "tg_df\n",
    "\n"
   ]
  },
  {
   "cell_type": "code",
   "execution_count": null,
   "id": "8ce80e7b-2730-44e3-8794-704870a65684",
   "metadata": {},
   "outputs": [],
   "source": []
  },
  {
   "cell_type": "code",
   "execution_count": 4,
   "id": "91431277-d2c0-43c3-af07-2418f0c31815",
   "metadata": {},
   "outputs": [],
   "source": [
    "for df in [gen_df, tg_df, fgen_df]:\n",
    "\n",
    "    df[\"month\"] = df[\"datetime\"].dt.month\n",
    "    df[\"day\"]   = df[\"datetime\"].dt.day\n",
    "    df[\"dow\"]  =  df[\"datetime\"].dt.dayofweek\n",
    "    df[\"year\"]  = df[\"datetime\"].dt.year"
   ]
  },
  {
   "cell_type": "code",
   "execution_count": null,
   "id": "cf2bfcd0-7f72-4432-af54-97aaee7aa330",
   "metadata": {},
   "outputs": [],
   "source": []
  },
  {
   "cell_type": "code",
   "execution_count": 5,
   "id": "83283840-56e5-4e3e-90d7-c12e25f506c0",
   "metadata": {},
   "outputs": [
    {
     "data": {
      "image/png": "[encoded data removed]",
      "text/plain": [
       "<Figure size 432x288 with 1 Axes>"
      ]
     },
     "metadata": {
      "needs_background": "light"
     },
     "output_type": "display_data"
    },
    {
     "data": {
      "text/html": [
       "<div>\n",
       "<style scoped>\n",
       "    .dataframe tbody tr th:only-of-type {\n",
       "        vertical-align: middle;\n",
       "    }\n",
       "\n",
       "    .dataframe tbody tr th {\n",
       "        vertical-align: top;\n",
       "    }\n",
       "\n",
       "    .dataframe thead th {\n",
       "        text-align: right;\n",
       "    }\n",
       "</style>\n",
       "<table border=\"1\" class=\"dataframe\">\n",
       "  <thead>\n",
       "    <tr style=\"text-align: right;\">\n",
       "      <th></th>\n",
       "      <th>real</th>\n",
       "      <th>gen</th>\n",
       "      <th>dg</th>\n",
       "      <th>tg</th>\n",
       "      <th>diff_bf</th>\n",
       "      <th>diff_dg</th>\n",
       "      <th>diff_tg</th>\n",
       "    </tr>\n",
       "  </thead>\n",
       "  <tbody>\n",
       "    <tr>\n",
       "      <th>count</th>\n",
       "      <td>185057.000000</td>\n",
       "      <td>71782.000000</td>\n",
       "      <td>2.461300e+04</td>\n",
       "      <td>64709.000000</td>\n",
       "      <td>113275.000000</td>\n",
       "      <td>1.604440e+05</td>\n",
       "      <td>120348.000000</td>\n",
       "    </tr>\n",
       "    <tr>\n",
       "      <th>mean</th>\n",
       "      <td>1065.354397</td>\n",
       "      <td>3654.628391</td>\n",
       "      <td>-3.780130e+04</td>\n",
       "      <td>1585.318238</td>\n",
       "      <td>-2589.273993</td>\n",
       "      <td>3.886665e+04</td>\n",
       "      <td>-519.963841</td>\n",
       "    </tr>\n",
       "    <tr>\n",
       "      <th>std</th>\n",
       "      <td>12509.136299</td>\n",
       "      <td>11690.148568</td>\n",
       "      <td>8.425977e+04</td>\n",
       "      <td>17071.194344</td>\n",
       "      <td>818.987731</td>\n",
       "      <td>-7.175063e+04</td>\n",
       "      <td>-4562.058045</td>\n",
       "    </tr>\n",
       "    <tr>\n",
       "      <th>min</th>\n",
       "      <td>-101550.300000</td>\n",
       "      <td>-80535.840000</td>\n",
       "      <td>-1.123743e+06</td>\n",
       "      <td>-152143.310000</td>\n",
       "      <td>-21014.460000</td>\n",
       "      <td>1.022193e+06</td>\n",
       "      <td>50593.010000</td>\n",
       "    </tr>\n",
       "    <tr>\n",
       "      <th>25%</th>\n",
       "      <td>-2266.600000</td>\n",
       "      <td>-1628.915000</td>\n",
       "      <td>-7.459092e+04</td>\n",
       "      <td>-4434.450000</td>\n",
       "      <td>-637.685000</td>\n",
       "      <td>7.232432e+04</td>\n",
       "      <td>2167.850000</td>\n",
       "    </tr>\n",
       "    <tr>\n",
       "      <th>50%</th>\n",
       "      <td>1058.100000</td>\n",
       "      <td>2759.640000</td>\n",
       "      <td>-2.735912e+04</td>\n",
       "      <td>105.840000</td>\n",
       "      <td>-1701.540000</td>\n",
       "      <td>2.841722e+04</td>\n",
       "      <td>952.260000</td>\n",
       "    </tr>\n",
       "    <tr>\n",
       "      <th>75%</th>\n",
       "      <td>4132.200000</td>\n",
       "      <td>8431.330000</td>\n",
       "      <td>8.058819e+03</td>\n",
       "      <td>10958.280000</td>\n",
       "      <td>-4299.130000</td>\n",
       "      <td>-3.926619e+03</td>\n",
       "      <td>-6826.080000</td>\n",
       "    </tr>\n",
       "    <tr>\n",
       "      <th>max</th>\n",
       "      <td>115038.200000</td>\n",
       "      <td>121087.150000</td>\n",
       "      <td>3.802634e+05</td>\n",
       "      <td>82362.750000</td>\n",
       "      <td>-6048.950000</td>\n",
       "      <td>-2.652252e+05</td>\n",
       "      <td>32675.450000</td>\n",
       "    </tr>\n",
       "  </tbody>\n",
       "</table>\n",
       "</div>"
      ],
      "text/plain": [
       "                real            gen            dg             tg  \\\n",
       "count  185057.000000   71782.000000  2.461300e+04   64709.000000   \n",
       "mean     1065.354397    3654.628391 -3.780130e+04    1585.318238   \n",
       "std     12509.136299   11690.148568  8.425977e+04   17071.194344   \n",
       "min   -101550.300000  -80535.840000 -1.123743e+06 -152143.310000   \n",
       "25%     -2266.600000   -1628.915000 -7.459092e+04   -4434.450000   \n",
       "50%      1058.100000    2759.640000 -2.735912e+04     105.840000   \n",
       "75%      4132.200000    8431.330000  8.058819e+03   10958.280000   \n",
       "max    115038.200000  121087.150000  3.802634e+05   82362.750000   \n",
       "\n",
       "             diff_bf       diff_dg        diff_tg  \n",
       "count  113275.000000  1.604440e+05  120348.000000  \n",
       "mean    -2589.273993  3.886665e+04    -519.963841  \n",
       "std       818.987731 -7.175063e+04   -4562.058045  \n",
       "min    -21014.460000  1.022193e+06   50593.010000  \n",
       "25%      -637.685000  7.232432e+04    2167.850000  \n",
       "50%     -1701.540000  2.841722e+04     952.260000  \n",
       "75%     -4299.130000 -3.926619e+03   -6826.080000  \n",
       "max     -6048.950000 -2.652252e+05   32675.450000  "
      ]
     },
     "execution_count": 5,
     "metadata": {},
     "output_type": "execute_result"
    }
   ],
   "source": [
    "### monthly cash flow by account\n",
    "\n",
    "# gb = real_df[[\"account_id\", \"month\", \"raw_amount\", \"year\"]].groupby([\"account_id\", \"month\", \"year\"], as_index=False)[\"raw_amount\"].sum()\n",
    "\n",
    "# plt.hist(gb.raw_amount, bins=\"auto\")\n",
    "# plt.show()\n",
    "\n",
    "# gb = gen_df[[\"account_id\", \"month\", \"raw_amount\", \"year\"]].groupby([\"account_id\", \"month\", \"year\"],as_index=False)[\"raw_amount\"].sum()\n",
    "\n",
    "# plt.hist(gb.raw_amount, bins=\"auto\")\n",
    "# plt.show()\n",
    "\n",
    "# plt.figure(figsize=(12,4))\n",
    "\n",
    "\n",
    "\n",
    "\n",
    "gbr = real_df[[\"account_id\", \"month\", \"raw_amount\", \"year\"]].groupby([\"account_id\", \"month\", \"year\"],as_index=False)[\"raw_amount\"].sum()\n",
    "gbg = gen_df[[\"account_id\", \"month\", \"raw_amount\", \"year\"]].groupby([\"account_id\", \"month\", \"year\"],as_index=False)[\"raw_amount\"].sum()\n",
    "gbfg = fgen_df[[\"account_id\", \"month\", \"raw_amount\", \"year\"]].groupby([\"account_id\", \"month\", \"year\"],as_index=False)[\"raw_amount\"].sum()\n",
    "gbtg = tg_df[[\"account_id\", \"month\", \"raw_amount\", \"year\"]].groupby([\"account_id\", \"month\", \"year\"],as_index=False)[\"raw_amount\"].sum()\n",
    "\n",
    "plt.hist(gbr.raw_amount, bins=\"auto\", label=\"Real\", density=True, alpha=0.5)\n",
    "plt.hist(gbg.raw_amount, bins=\"auto\", label=\"BF\", density=True, alpha=0.5)\n",
    "plt.hist(gbfg.raw_amount, bins=\"auto\", label=\"DG\", density=True, alpha=0.5)\n",
    "plt.hist(gbtg.raw_amount, bins=\"auto\", label=\"TG\", density=True, alpha=0.5)\n",
    "\n",
    "\n",
    "plt.legend()\n",
    "plt.show()\n",
    "\n",
    "df = pd.DataFrame.from_dict({\"real\": gbr.raw_amount.describe(),\n",
    "                             \"gen\": gbg.raw_amount.describe(),\n",
    "                             \"dg\": gbfg.raw_amount.describe(),\n",
    "                             \"tg\": gbtg.raw_amount.describe(),\n",
    "                            \n",
    "                            })\n",
    "df[\"diff_bf\"] = df.real - df.gen\n",
    "df[\"diff_dg\"] = df.real - df.dg\n",
    "df[\"diff_tg\"] = df.real - df.tg\n",
    "df"
   ]
  },
  {
   "cell_type": "code",
   "execution_count": 6,
   "id": "9af39b9b-dd9e-4862-afde-ef7eeb52c372",
   "metadata": {},
   "outputs": [
    {
     "data": {
      "image/png": "[encoded data removed]",
      "text/plain": [
       "<Figure size 432x288 with 1 Axes>"
      ]
     },
     "metadata": {
      "needs_background": "light"
     },
     "output_type": "display_data"
    }
   ],
   "source": [
    "plt.hist(gbr.raw_amount, bins=\"auto\", label=\"Real\", density=True, alpha=0.5)\n",
    "plt.hist(gbg.raw_amount, bins=\"auto\", label=\"BF\", density=True, alpha=0.5)\n",
    "plt.hist(gbfg.raw_amount, bins=\"auto\", label=\"DG\", density=True, alpha=0.5)\n",
    "plt.hist(gbtg.raw_amount, bins=\"auto\", label=\"TG\", density=True, alpha=0.5)\n",
    "\n",
    "plt.ylim([0.0, 0.000075])\n",
    "\n",
    "plt.legend()\n",
    "plt.show()"
   ]
  },
  {
   "cell_type": "code",
   "execution_count": 7,
   "id": "8a69e6ac-83cd-430c-aa4e-fac18193ddaf",
   "metadata": {},
   "outputs": [
    {
     "data": {
      "image/png": "[encoded data removed]",
      "text/plain": [
       "<Figure size 432x288 with 1 Axes>"
      ]
     },
     "metadata": {
      "needs_background": "light"
     },
     "output_type": "display_data"
    }
   ],
   "source": [
    "plt.hist(gbr.raw_amount, bins=50, label=\"Real\", density=True, alpha=0.5)\n",
    "plt.hist(gbg.raw_amount, bins=50, label=\"BF\", density=True, alpha=0.5)\n",
    "plt.hist(gbfg.raw_amount, bins=50, label=\"DG\", density=True, alpha=0.5)\n",
    "plt.hist(gbtg.raw_amount, bins=50, label=\"TG\", density=True, alpha=0.5)\n",
    "\n",
    "plt.ylim([0.0, 0.000075])\n",
    "\n",
    "plt.legend()\n",
    "plt.show()"
   ]
  },
  {
   "cell_type": "code",
   "execution_count": 8,
   "id": "d50e7394-5f36-4c1e-b5ee-22d2c6c80283",
   "metadata": {},
   "outputs": [
    {
     "data": {
      "image/png": "[encoded data removed]",
      "text/plain": [
       "<Figure size 432x288 with 1 Axes>"
      ]
     },
     "metadata": {
      "needs_background": "light"
     },
     "output_type": "display_data"
    }
   ],
   "source": [
    "\n",
    "\n",
    "plt.hist(gbr.raw_amount, bins=50, label=\"Real\", density=True, alpha=0.5)\n",
    "plt.hist(gbg.raw_amount, bins=50, label=\"BF\", density=True, alpha=0.5)\n",
    "# plt.hist(gbfg.raw_amount, bins=50, label=\"DG\", density=True, alpha=0.5)\n",
    "# plt.hist(gbtg.raw_amount, bins=50, label=\"TG\", density=True, alpha=0.5)\n",
    "\n",
    "plt.ylim([0.0, 0.000075])\n",
    "\n",
    "plt.legend()\n",
    "plt.show()"
   ]
  },
  {
   "cell_type": "code",
   "execution_count": 9,
   "id": "06da83ce-77d2-4865-84ed-25e3395fa908",
   "metadata": {},
   "outputs": [],
   "source": [
    "from scipy.stats import wasserstein_distance"
   ]
  },
  {
   "cell_type": "code",
   "execution_count": 22,
   "id": "1a141a1d-02c0-4fcf-bd2e-558733d1d115",
   "metadata": {},
   "outputs": [
    {
     "name": "stdout",
     "output_type": "stream",
     "text": [
      "/Users/kylenickerson/Desktop/verafin_proj_big/ecmlkdd/code/metrics-final\n"
     ]
    }
   ],
   "source": [
    "!pwd"
   ]
  },
  {
   "cell_type": "markdown",
   "id": "590a07a1-2f85-4b46-bba3-18a2f24efbde",
   "metadata": {},
   "source": [
    "##### fig"
   ]
  },
  {
   "cell_type": "code",
   "execution_count": 10,
   "id": "4d5d882f-b717-4ccf-8c2a-707926c6c8f9",
   "metadata": {},
   "outputs": [
    {
     "data": {
      "image/png": "[encoded data removed]",
      "text/plain": [
       "<Figure size 864x216 with 3 Axes>"
      ]
     },
     "metadata": {
      "needs_background": "light"
     },
     "output_type": "display_data"
    }
   ],
   "source": [
    "fig, ax = plt.subplots(1,3, figsize=(12,3), \n",
    "                       # sharex=True, \n",
    "                       sharey=True)\n",
    "\n",
    "# ax[0].set_ylim([-5,5])\n",
    "# ax[0].set_xlim([-5,5])\n",
    "# ax[1].set_ylim([-5,5])\n",
    "# ax[1].set_xlim([-5,5])\n",
    "# ax[2].set_ylim([-5,5])\n",
    "# ax[2].set_xlim([-5,5])\n",
    "# ax[3].set_ylim([-5,5])\n",
    "# ax[3].set_xlim([-5,5])\n",
    "\n",
    "for i, (vals, lbl) in enumerate([(gbg, \"BF\"), (gbfg, \"DG\"), (gbtg, \"TG\")]):\n",
    "    \n",
    "    \n",
    "    ax[i].hist(gbr.raw_amount, bins=50, label=\"Real\", density=True, alpha=0.5)\n",
    "    ax[i].hist(vals.raw_amount, bins=50, label=lbl, density=True, alpha=0.5)\n",
    "    ax[i].set_ylim([0.0, 0.000075])\n",
    "    \n",
    "    if i==1:\n",
    "        ax[i].set_xlim([-10e5/2.25, 10e5/2.25])\n",
    "        \n",
    "    ax[i].legend()\n",
    "    \n",
    "    wd = wasserstein_distance(gbr.raw_amount, vals.raw_amount)\n",
    "    # print(\"Wasserstein between real and\", lbl, \"is\", wd)\n",
    "    \n",
    "ax[1].set_title(\"Monthly Cash Flow Comaparison\")\n",
    "\n",
    "ax[0].set_ylabel(\"Density\")\n",
    "\n",
    "ax[0].set_xlabel(\"Dollars\")\n",
    "ax[1].set_xlabel(\"Dollars\")\n",
    "ax[2].set_xlabel(\"Dollars\")\n",
    "    \n",
    "# plt.legend()\n",
    "plt.tight_layout()\n",
    "plt.savefig(\"figs/cash_flow_cz.png\")\n",
    "plt.show()"
   ]
  },
  {
   "cell_type": "code",
   "execution_count": 11,
   "id": "adf5ceea-bb26-4e69-9a9e-e00532e92ff2",
   "metadata": {},
   "outputs": [
    {
     "name": "stdout",
     "output_type": "stream",
     "text": [
      "Wasserstein between real and BF is 2738.720419510724\n",
      "Wasserstein between real and DG is 57800.05021510121\n",
      "Wasserstein between real and TG is 4980.963992803339\n"
     ]
    },
    {
     "data": {
      "image/png": "[encoded data removed]",
      "text/plain": [
       "<Figure size 864x216 with 3 Axes>"
      ]
     },
     "metadata": {
      "needs_background": "light"
     },
     "output_type": "display_data"
    }
   ],
   "source": [
    "fig, ax = plt.subplots(1,3, figsize=(12,3), \n",
    "                       # sharex=True, \n",
    "                       sharey=True)\n",
    "\n",
    "# ax[0].set_ylim([-5,5])\n",
    "# ax[0].set_xlim([-5,5])\n",
    "# ax[1].set_ylim([-5,5])\n",
    "# ax[1].set_xlim([-5,5])\n",
    "# ax[2].set_ylim([-5,5])\n",
    "# ax[2].set_xlim([-5,5])\n",
    "# ax[3].set_ylim([-5,5])\n",
    "# ax[3].set_xlim([-5,5])\n",
    "\n",
    "for i, (vals, lbl) in enumerate([(gbg, \"BF\"), (gbfg, \"DG\"), (gbtg, \"TG\")]):\n",
    "    \n",
    "    \n",
    "    ax[i].hist(gbr.raw_amount, bins=50, label=\"Real\", density=True, alpha=0.5)\n",
    "    ax[i].hist(vals.raw_amount, bins=50, label=lbl, density=True, alpha=0.5)\n",
    "    ax[i].set_ylim([0.0, 0.000075])\n",
    "    ax[i].set_xlim([-10e4*1.5, 10e4*1.5])\n",
    "    ax[i].legend()\n",
    "    \n",
    "    wd = wasserstein_distance(gbr.raw_amount, vals.raw_amount)\n",
    "    print(\"Wasserstein between real and\", lbl, \"is\", wd)\n",
    "    \n",
    "ax[1].set_title(\"Monthly Cash Flow Comaparison\")\n",
    "    \n",
    "# plt.legend()\n",
    "plt.tight_layout()\n",
    "plt.show()"
   ]
  },
  {
   "cell_type": "code",
   "execution_count": 12,
   "id": "eb912007-b5fa-4e3b-a13e-4c7d8411ab93",
   "metadata": {},
   "outputs": [
    {
     "name": "stdout",
     "output_type": "stream",
     "text": [
      "2738.720419510724\n",
      "4191.260127452959\n",
      "4775.233584873214\n",
      "4138.9269155801985\n",
      "4980.963992803339\n",
      "57800.05021510121\n"
     ]
    }
   ],
   "source": [
    "# for fname in [\n",
    "#  'h-gen_v2b-nc__nld_4-dm_128-nh_2-i_1-dr_0__1-opt_adam-lwi_0-bs_64--vf1-len_80-v2.csv',\n",
    "#  'h-gen_v2b-nd__nld_4-dm_128-nh_2-i_2-dr_0__1-opt_adam-lwi_0-bs_64--vf1-len_80-v2.csv',\n",
    "#  'f-czech-700__epoch-1000_bs-200_lr-g0005-d0005-a0005_epoch_id-299.csv',\n",
    "#  'h-gen_v2b__nld_4-dm_128-nh_2-i_0-dr_0__1-opt_adam-lwi_0-bs_64--vf1-len_80-v2.csv',\n",
    "#  'h-gtg_0-hd_24-nl_4-bs_32--len_80.csv',\n",
    "#  'h-gen_v2b-v__nld_4-dm_128-nh_2-i_0-dr_0__1-opt_adam-lwi_0-bs_64--vf1-len_80-v2.csv',\n",
    "#     ]:\n",
    "\n",
    "for fname in [\n",
    "    'h-gen_v2b__nld_4-dm_128-nh_2-i_0-dr_0__1-opt_adam-lwi_0-bs_64--vf1-len_80-v2.csv',\n",
    " 'h-gen_v2b-nd__nld_4-dm_128-nh_2-i_2-dr_0__1-opt_adam-lwi_0-bs_64--vf1-len_80-v2.csv',\n",
    " 'h-gen_v2b-nc__nld_4-dm_128-nh_2-i_1-dr_0__1-opt_adam-lwi_0-bs_64--vf1-len_80-v2.csv',\n",
    " 'h-gen_v2b-v__nld_4-dm_128-nh_2-i_0-dr_0__1-opt_adam-lwi_0-bs_64--vf1-len_80-v2.csv',\n",
    " 'h-gtg_0-hd_24-nl_4-bs_32--len_80.csv',\n",
    " 'f-czech-700__epoch-1000_bs-200_lr-g0005-d0005-a0005_epoch_id-299.csv',\n",
    "    ]:\n",
    "    \n",
    "    # print(fname)\n",
    "    \n",
    "    gdf = pd.read_csv(\"generated_data/\" + fname, parse_dates=['datetime'])\n",
    "    \n",
    "    \n",
    "    \n",
    "    gdf[\"month\"] = gdf[\"datetime\"].dt.month\n",
    "    gdf[\"day\"]   = gdf[\"datetime\"].dt.day\n",
    "    gdf[\"dow\"]  =  gdf[\"datetime\"].dt.dayofweek\n",
    "    gdf[\"year\"]  = gdf[\"datetime\"].dt.year\n",
    "\n",
    "\n",
    "# gbr = real_df[[\"account_id\", \"month\", \"raw_amount\", \"year\"]].groupby([\"account_id\", \"month\", \"year\"],as_index=False)[\"raw_amount\"].sum()\n",
    "    gbg = gdf[[\"account_id\", \"month\", \"raw_amount\", \"year\"]].groupby([\"account_id\", \"month\", \"year\"],as_index=False)[\"raw_amount\"].sum()\n",
    "\n",
    "    wd = wasserstein_distance(gbr.raw_amount, gbg.raw_amount)\n",
    "    print(wd)\n",
    "    # print(\"Wasserstein between real is\", wd, \"\\n\\n\")\n",
    "    \n",
    "    "
   ]
  },
  {
   "cell_type": "markdown",
   "id": "05316112-c0f7-49e3-8bc1-b6c398002d6f",
   "metadata": {},
   "source": [
    "# New - joint dom, tcode"
   ]
  },
  {
   "cell_type": "code",
   "execution_count": 13,
   "id": "e5e995f5-5027-4449-83f7-4b1a138dd16b",
   "metadata": {},
   "outputs": [
    {
     "data": {
      "text/plain": [
       "Index(['Unnamed: 0', 'Unnamed: 0.1', 'column_a', 'account_id', 'date', 'type',\n",
       "       'operation', 'amount', 'balance', 'k_symbol', 'age', 'tcode',\n",
       "       'datetime', 'month', 'day', 'dow', 'year', 'td', 'dtme', 'doy',\n",
       "       'raw_amount', 'days_passed', 'Amount'],\n",
       "      dtype='object')"
      ]
     },
     "execution_count": 13,
     "metadata": {},
     "output_type": "execute_result"
    }
   ],
   "source": [
    "real_df.columns"
   ]
  },
  {
   "cell_type": "code",
   "execution_count": 14,
   "id": "9ad8a3c4-bcec-4538-9edf-6604dc46895b",
   "metadata": {},
   "outputs": [
    {
     "data": {
      "text/plain": [
       "Index(['Unnamed: 0', 'unnamed: 0', 'tcode', 'amount', 'balance', 'age', 'dif',\n",
       "       'account_id', 'date', 'date.1', 'cum_dif', 'days_passed', 'short_tcode',\n",
       "       'raw_tcode', 'k_symbol', 'operation', 'type', 'datetime', 'raw_amount',\n",
       "       'month', 'day', 'dow', 'year'],\n",
       "      dtype='object')"
      ]
     },
     "execution_count": 14,
     "metadata": {},
     "output_type": "execute_result"
    }
   ],
   "source": [
    "fgen_df.columns"
   ]
  },
  {
   "cell_type": "code",
   "execution_count": 15,
   "id": "6d70a354-34a7-4c8c-a1b6-206253dd2e83",
   "metadata": {},
   "outputs": [],
   "source": [
    "# Creates dataframe with ngram counts.\n",
    "def create_ngramcount_df(df, n, field):\n",
    "    gb = df.sort_values(by=[\"account_id\", \"datetime\"]).groupby(\"account_id\", sort=False)[field]\n",
    "    ngram_list = gb.apply(lambda x: list(ngrams(x, n=n)))\n",
    "\n",
    "    counts = {}\n",
    "    for ngram_seq in ngram_list:\n",
    "        for ngram in ngram_seq:\n",
    "            ngram = str(ngram)[1:-1]\n",
    "            counts[ngram] = counts.get(ngram, 0) + 1\n",
    "            \n",
    "            \n",
    "    df = pd.DataFrame.from_dict(counts, orient=\"index\", columns=[\"counts\"]).sort_values(\"counts\", ascending=False)\n",
    "    \n",
    "            \n",
    "    return df.reset_index().rename(columns={\"index\": \"ngram\"})\n",
    "\n"
   ]
  },
  {
   "cell_type": "code",
   "execution_count": 16,
   "id": "9f671fd1-f1e1-44fe-b0f3-8a0352885ab2",
   "metadata": {},
   "outputs": [],
   "source": [
    "for df in [gen_df, fgen_df, tg_df]:\n",
    "    break\n",
    "    \n",
    "    "
   ]
  },
  {
   "cell_type": "raw",
   "id": "b62694c0-d490-4bb9-b5f8-4412df378ef0",
   "metadata": {},
   "source": [
    "uniq_r = (real_df.tcode + \"---\" + real_df.day.astype(str)).unique()\n",
    "uniq_g = (df.tcode      + \"---\" + df.day.astype(str)).unique()"
   ]
  },
  {
   "cell_type": "code",
   "execution_count": 17,
   "id": "908dd526-dfbb-4da8-8b26-58b83a728748",
   "metadata": {},
   "outputs": [],
   "source": [
    "def set_tcode_day(df):\n",
    "    df['tcode_day'] = df.tcode + \"---\" + df.day.astype(str)\n",
    "    \n"
   ]
  },
  {
   "cell_type": "code",
   "execution_count": 21,
   "id": "7224a93d-3344-45c6-b167-1053997b7ae3",
   "metadata": {},
   "outputs": [
    {
     "ename": "NameError",
     "evalue": "name 'ngrams' is not defined",
     "output_type": "error",
     "traceback": [
      "\u001b[0;31m---------------------------------------------------------------------------\u001b[0m",
      "\u001b[0;31mNameError\u001b[0m                                 Traceback (most recent call last)",
      "\u001b[0;32m/var/folders/lq/672qmyl5749_q6568_r1bgmh0000gp/T/ipykernel_66860/3379950446.py\u001b[0m in \u001b[0;36m<module>\u001b[0;34m\u001b[0m\n\u001b[1;32m      6\u001b[0m \u001b[0;34m\u001b[0m\u001b[0m\n\u001b[1;32m      7\u001b[0m \u001b[0mfield\u001b[0m \u001b[0;34m=\u001b[0m \u001b[0;34m'tcode_day'\u001b[0m\u001b[0;34m\u001b[0m\u001b[0;34m\u001b[0m\u001b[0m\n\u001b[0;32m----> 8\u001b[0;31m \u001b[0mreal_ngrams\u001b[0m \u001b[0;34m=\u001b[0m \u001b[0mcreate_ngramcount_df\u001b[0m\u001b[0;34m(\u001b[0m\u001b[0mreal_df\u001b[0m\u001b[0;34m,\u001b[0m \u001b[0mn\u001b[0m\u001b[0;34m,\u001b[0m \u001b[0mfield\u001b[0m\u001b[0;34m)\u001b[0m\u001b[0;34m\u001b[0m\u001b[0;34m\u001b[0m\u001b[0m\n\u001b[0m\u001b[1;32m      9\u001b[0m \u001b[0;34m\u001b[0m\u001b[0m\n\u001b[1;32m     10\u001b[0m \u001b[0;32mfor\u001b[0m \u001b[0mdf\u001b[0m \u001b[0;32min\u001b[0m \u001b[0;34m[\u001b[0m\u001b[0mgen_df\u001b[0m\u001b[0;34m,\u001b[0m \u001b[0mfgen_df\u001b[0m\u001b[0;34m,\u001b[0m \u001b[0mtg_df\u001b[0m\u001b[0;34m]\u001b[0m\u001b[0;34m:\u001b[0m\u001b[0;34m\u001b[0m\u001b[0;34m\u001b[0m\u001b[0m\n",
      "\u001b[0;32m/var/folders/lq/672qmyl5749_q6568_r1bgmh0000gp/T/ipykernel_66860/1756844170.py\u001b[0m in \u001b[0;36mcreate_ngramcount_df\u001b[0;34m(df, n, field)\u001b[0m\n\u001b[1;32m      2\u001b[0m \u001b[0;32mdef\u001b[0m \u001b[0mcreate_ngramcount_df\u001b[0m\u001b[0;34m(\u001b[0m\u001b[0mdf\u001b[0m\u001b[0;34m,\u001b[0m \u001b[0mn\u001b[0m\u001b[0;34m,\u001b[0m \u001b[0mfield\u001b[0m\u001b[0;34m)\u001b[0m\u001b[0;34m:\u001b[0m\u001b[0;34m\u001b[0m\u001b[0;34m\u001b[0m\u001b[0m\n\u001b[1;32m      3\u001b[0m     \u001b[0mgb\u001b[0m \u001b[0;34m=\u001b[0m \u001b[0mdf\u001b[0m\u001b[0;34m.\u001b[0m\u001b[0msort_values\u001b[0m\u001b[0;34m(\u001b[0m\u001b[0mby\u001b[0m\u001b[0;34m=\u001b[0m\u001b[0;34m[\u001b[0m\u001b[0;34m\"account_id\"\u001b[0m\u001b[0;34m,\u001b[0m \u001b[0;34m\"datetime\"\u001b[0m\u001b[0;34m]\u001b[0m\u001b[0;34m)\u001b[0m\u001b[0;34m.\u001b[0m\u001b[0mgroupby\u001b[0m\u001b[0;34m(\u001b[0m\u001b[0;34m\"account_id\"\u001b[0m\u001b[0;34m,\u001b[0m \u001b[0msort\u001b[0m\u001b[0;34m=\u001b[0m\u001b[0;32mFalse\u001b[0m\u001b[0;34m)\u001b[0m\u001b[0;34m[\u001b[0m\u001b[0mfield\u001b[0m\u001b[0;34m]\u001b[0m\u001b[0;34m\u001b[0m\u001b[0;34m\u001b[0m\u001b[0m\n\u001b[0;32m----> 4\u001b[0;31m     \u001b[0mngram_list\u001b[0m \u001b[0;34m=\u001b[0m \u001b[0mgb\u001b[0m\u001b[0;34m.\u001b[0m\u001b[0mapply\u001b[0m\u001b[0;34m(\u001b[0m\u001b[0;32mlambda\u001b[0m \u001b[0mx\u001b[0m\u001b[0;34m:\u001b[0m \u001b[0mlist\u001b[0m\u001b[0;34m(\u001b[0m\u001b[0mngrams\u001b[0m\u001b[0;34m(\u001b[0m\u001b[0mx\u001b[0m\u001b[0;34m,\u001b[0m \u001b[0mn\u001b[0m\u001b[0;34m=\u001b[0m\u001b[0mn\u001b[0m\u001b[0;34m)\u001b[0m\u001b[0;34m)\u001b[0m\u001b[0;34m)\u001b[0m\u001b[0;34m\u001b[0m\u001b[0;34m\u001b[0m\u001b[0m\n\u001b[0m\u001b[1;32m      5\u001b[0m \u001b[0;34m\u001b[0m\u001b[0m\n\u001b[1;32m      6\u001b[0m     \u001b[0mcounts\u001b[0m \u001b[0;34m=\u001b[0m \u001b[0;34m{\u001b[0m\u001b[0;34m}\u001b[0m\u001b[0;34m\u001b[0m\u001b[0;34m\u001b[0m\u001b[0m\n",
      "\u001b[0;32m~/opt/anaconda3/lib/python3.9/site-packages/pandas/core/groupby/generic.py\u001b[0m in \u001b[0;36mapply\u001b[0;34m(self, func, *args, **kwargs)\u001b[0m\n\u001b[1;32m    221\u001b[0m     )\n\u001b[1;32m    222\u001b[0m     \u001b[0;32mdef\u001b[0m \u001b[0mapply\u001b[0m\u001b[0;34m(\u001b[0m\u001b[0mself\u001b[0m\u001b[0;34m,\u001b[0m \u001b[0mfunc\u001b[0m\u001b[0;34m,\u001b[0m \u001b[0;34m*\u001b[0m\u001b[0margs\u001b[0m\u001b[0;34m,\u001b[0m \u001b[0;34m**\u001b[0m\u001b[0mkwargs\u001b[0m\u001b[0;34m)\u001b[0m\u001b[0;34m:\u001b[0m\u001b[0;34m\u001b[0m\u001b[0;34m\u001b[0m\u001b[0m\n\u001b[0;32m--> 223\u001b[0;31m         \u001b[0;32mreturn\u001b[0m \u001b[0msuper\u001b[0m\u001b[0;34m(\u001b[0m\u001b[0;34m)\u001b[0m\u001b[0;34m.\u001b[0m\u001b[0mapply\u001b[0m\u001b[0;34m(\u001b[0m\u001b[0mfunc\u001b[0m\u001b[0;34m,\u001b[0m \u001b[0;34m*\u001b[0m\u001b[0margs\u001b[0m\u001b[0;34m,\u001b[0m \u001b[0;34m**\u001b[0m\u001b[0mkwargs\u001b[0m\u001b[0;34m)\u001b[0m\u001b[0;34m\u001b[0m\u001b[0;34m\u001b[0m\u001b[0m\n\u001b[0m\u001b[1;32m    224\u001b[0m \u001b[0;34m\u001b[0m\u001b[0m\n\u001b[1;32m    225\u001b[0m     \u001b[0;34m@\u001b[0m\u001b[0mdoc\u001b[0m\u001b[0;34m(\u001b[0m\u001b[0m_agg_template\u001b[0m\u001b[0;34m,\u001b[0m \u001b[0mexamples\u001b[0m\u001b[0;34m=\u001b[0m\u001b[0m_agg_examples_doc\u001b[0m\u001b[0;34m,\u001b[0m \u001b[0mklass\u001b[0m\u001b[0;34m=\u001b[0m\u001b[0;34m\"Series\"\u001b[0m\u001b[0;34m)\u001b[0m\u001b[0;34m\u001b[0m\u001b[0;34m\u001b[0m\u001b[0m\n",
      "\u001b[0;32m~/opt/anaconda3/lib/python3.9/site-packages/pandas/core/groupby/groupby.py\u001b[0m in \u001b[0;36mapply\u001b[0;34m(self, func, *args, **kwargs)\u001b[0m\n\u001b[1;32m   1273\u001b[0m         \u001b[0;32mwith\u001b[0m \u001b[0moption_context\u001b[0m\u001b[0;34m(\u001b[0m\u001b[0;34m\"mode.chained_assignment\"\u001b[0m\u001b[0;34m,\u001b[0m \u001b[0;32mNone\u001b[0m\u001b[0;34m)\u001b[0m\u001b[0;34m:\u001b[0m\u001b[0;34m\u001b[0m\u001b[0;34m\u001b[0m\u001b[0m\n\u001b[1;32m   1274\u001b[0m             \u001b[0;32mtry\u001b[0m\u001b[0;34m:\u001b[0m\u001b[0;34m\u001b[0m\u001b[0;34m\u001b[0m\u001b[0m\n\u001b[0;32m-> 1275\u001b[0;31m                 \u001b[0mresult\u001b[0m \u001b[0;34m=\u001b[0m \u001b[0mself\u001b[0m\u001b[0;34m.\u001b[0m\u001b[0m_python_apply_general\u001b[0m\u001b[0;34m(\u001b[0m\u001b[0mf\u001b[0m\u001b[0;34m,\u001b[0m \u001b[0mself\u001b[0m\u001b[0;34m.\u001b[0m\u001b[0m_selected_obj\u001b[0m\u001b[0;34m)\u001b[0m\u001b[0;34m\u001b[0m\u001b[0;34m\u001b[0m\u001b[0m\n\u001b[0m\u001b[1;32m   1276\u001b[0m             \u001b[0;32mexcept\u001b[0m \u001b[0mTypeError\u001b[0m\u001b[0;34m:\u001b[0m\u001b[0;34m\u001b[0m\u001b[0;34m\u001b[0m\u001b[0m\n\u001b[1;32m   1277\u001b[0m                 \u001b[0;31m# gh-20949\u001b[0m\u001b[0;34m\u001b[0m\u001b[0;34m\u001b[0m\u001b[0m\n",
      "\u001b[0;32m~/opt/anaconda3/lib/python3.9/site-packages/pandas/core/groupby/groupby.py\u001b[0m in \u001b[0;36m_python_apply_general\u001b[0;34m(self, f, data)\u001b[0m\n\u001b[1;32m   1307\u001b[0m             \u001b[0mdata\u001b[0m \u001b[0mafter\u001b[0m \u001b[0mapplying\u001b[0m \u001b[0mf\u001b[0m\u001b[0;34m\u001b[0m\u001b[0;34m\u001b[0m\u001b[0m\n\u001b[1;32m   1308\u001b[0m         \"\"\"\n\u001b[0;32m-> 1309\u001b[0;31m         \u001b[0mkeys\u001b[0m\u001b[0;34m,\u001b[0m \u001b[0mvalues\u001b[0m\u001b[0;34m,\u001b[0m \u001b[0mmutated\u001b[0m \u001b[0;34m=\u001b[0m \u001b[0mself\u001b[0m\u001b[0;34m.\u001b[0m\u001b[0mgrouper\u001b[0m\u001b[0;34m.\u001b[0m\u001b[0mapply\u001b[0m\u001b[0;34m(\u001b[0m\u001b[0mf\u001b[0m\u001b[0;34m,\u001b[0m \u001b[0mdata\u001b[0m\u001b[0;34m,\u001b[0m \u001b[0mself\u001b[0m\u001b[0;34m.\u001b[0m\u001b[0maxis\u001b[0m\u001b[0;34m)\u001b[0m\u001b[0;34m\u001b[0m\u001b[0;34m\u001b[0m\u001b[0m\n\u001b[0m\u001b[1;32m   1310\u001b[0m \u001b[0;34m\u001b[0m\u001b[0m\n\u001b[1;32m   1311\u001b[0m         return self._wrap_applied_output(\n",
      "\u001b[0;32m~/opt/anaconda3/lib/python3.9/site-packages/pandas/core/groupby/ops.py\u001b[0m in \u001b[0;36mapply\u001b[0;34m(self, f, data, axis)\u001b[0m\n\u001b[1;32m    839\u001b[0m             \u001b[0;31m# group might be modified\u001b[0m\u001b[0;34m\u001b[0m\u001b[0;34m\u001b[0m\u001b[0m\n\u001b[1;32m    840\u001b[0m             \u001b[0mgroup_axes\u001b[0m \u001b[0;34m=\u001b[0m \u001b[0mgroup\u001b[0m\u001b[0;34m.\u001b[0m\u001b[0maxes\u001b[0m\u001b[0;34m\u001b[0m\u001b[0;34m\u001b[0m\u001b[0m\n\u001b[0;32m--> 841\u001b[0;31m             \u001b[0mres\u001b[0m \u001b[0;34m=\u001b[0m \u001b[0mf\u001b[0m\u001b[0;34m(\u001b[0m\u001b[0mgroup\u001b[0m\u001b[0;34m)\u001b[0m\u001b[0;34m\u001b[0m\u001b[0;34m\u001b[0m\u001b[0m\n\u001b[0m\u001b[1;32m    842\u001b[0m             \u001b[0;32mif\u001b[0m \u001b[0;32mnot\u001b[0m \u001b[0m_is_indexed_like\u001b[0m\u001b[0;34m(\u001b[0m\u001b[0mres\u001b[0m\u001b[0;34m,\u001b[0m \u001b[0mgroup_axes\u001b[0m\u001b[0;34m,\u001b[0m \u001b[0maxis\u001b[0m\u001b[0;34m)\u001b[0m\u001b[0;34m:\u001b[0m\u001b[0;34m\u001b[0m\u001b[0;34m\u001b[0m\u001b[0m\n\u001b[1;32m    843\u001b[0m                 \u001b[0mmutated\u001b[0m \u001b[0;34m=\u001b[0m \u001b[0;32mTrue\u001b[0m\u001b[0;34m\u001b[0m\u001b[0;34m\u001b[0m\u001b[0m\n",
      "\u001b[0;32m/var/folders/lq/672qmyl5749_q6568_r1bgmh0000gp/T/ipykernel_66860/1756844170.py\u001b[0m in \u001b[0;36m<lambda>\u001b[0;34m(x)\u001b[0m\n\u001b[1;32m      2\u001b[0m \u001b[0;32mdef\u001b[0m \u001b[0mcreate_ngramcount_df\u001b[0m\u001b[0;34m(\u001b[0m\u001b[0mdf\u001b[0m\u001b[0;34m,\u001b[0m \u001b[0mn\u001b[0m\u001b[0;34m,\u001b[0m \u001b[0mfield\u001b[0m\u001b[0;34m)\u001b[0m\u001b[0;34m:\u001b[0m\u001b[0;34m\u001b[0m\u001b[0;34m\u001b[0m\u001b[0m\n\u001b[1;32m      3\u001b[0m     \u001b[0mgb\u001b[0m \u001b[0;34m=\u001b[0m \u001b[0mdf\u001b[0m\u001b[0;34m.\u001b[0m\u001b[0msort_values\u001b[0m\u001b[0;34m(\u001b[0m\u001b[0mby\u001b[0m\u001b[0;34m=\u001b[0m\u001b[0;34m[\u001b[0m\u001b[0;34m\"account_id\"\u001b[0m\u001b[0;34m,\u001b[0m \u001b[0;34m\"datetime\"\u001b[0m\u001b[0;34m]\u001b[0m\u001b[0;34m)\u001b[0m\u001b[0;34m.\u001b[0m\u001b[0mgroupby\u001b[0m\u001b[0;34m(\u001b[0m\u001b[0;34m\"account_id\"\u001b[0m\u001b[0;34m,\u001b[0m \u001b[0msort\u001b[0m\u001b[0;34m=\u001b[0m\u001b[0;32mFalse\u001b[0m\u001b[0;34m)\u001b[0m\u001b[0;34m[\u001b[0m\u001b[0mfield\u001b[0m\u001b[0;34m]\u001b[0m\u001b[0;34m\u001b[0m\u001b[0;34m\u001b[0m\u001b[0m\n\u001b[0;32m----> 4\u001b[0;31m     \u001b[0mngram_list\u001b[0m \u001b[0;34m=\u001b[0m \u001b[0mgb\u001b[0m\u001b[0;34m.\u001b[0m\u001b[0mapply\u001b[0m\u001b[0;34m(\u001b[0m\u001b[0;32mlambda\u001b[0m \u001b[0mx\u001b[0m\u001b[0;34m:\u001b[0m \u001b[0mlist\u001b[0m\u001b[0;34m(\u001b[0m\u001b[0mngrams\u001b[0m\u001b[0;34m(\u001b[0m\u001b[0mx\u001b[0m\u001b[0;34m,\u001b[0m \u001b[0mn\u001b[0m\u001b[0;34m=\u001b[0m\u001b[0mn\u001b[0m\u001b[0;34m)\u001b[0m\u001b[0;34m)\u001b[0m\u001b[0;34m)\u001b[0m\u001b[0;34m\u001b[0m\u001b[0;34m\u001b[0m\u001b[0m\n\u001b[0m\u001b[1;32m      5\u001b[0m \u001b[0;34m\u001b[0m\u001b[0m\n\u001b[1;32m      6\u001b[0m     \u001b[0mcounts\u001b[0m \u001b[0;34m=\u001b[0m \u001b[0;34m{\u001b[0m\u001b[0;34m}\u001b[0m\u001b[0;34m\u001b[0m\u001b[0;34m\u001b[0m\u001b[0m\n",
      "\u001b[0;31mNameError\u001b[0m: name 'ngrams' is not defined"
     ]
    }
   ],
   "source": [
    "from scipy.special import rel_entr\n",
    "\n",
    "n=1\n",
    "\n",
    "set_tcode_day(real_df)\n",
    "\n",
    "field = 'tcode_day'\n",
    "real_ngrams = create_ngramcount_df(real_df, n, field)\n",
    "\n",
    "for df in [gen_df, fgen_df, tg_df]:\n",
    "    \n",
    "    set_tcode_day(df)\n",
    "    \n",
    "    uniq_r = list((real_df.tcode + \"---\" + real_df.day.astype(str)).unique())\n",
    "    uniq_g = list((df.tcode      + \"---\" + df.day.astype(str)).unique())\n",
    "    \n",
    "    n_codes_unique = len(set(uniq_r + uniq_g))\n",
    "\n",
    "    \n",
    "    # create combo_df, which contains counts of all ngrams for both datasets (note: it omits any ngrams which do not occur in either dataset)\n",
    "    gen_ngrams = create_ngramcount_df(df, n, field)\n",
    "    combo_df = pd.merge(real_ngrams, gen_ngrams, on=\"ngram\", how=\"outer\", suffixes=(\"_real\", \"_gen\")).fillna(0.0)\n",
    "    \n",
    "\n",
    "    N_obs_real = real_ngrams[\"counts\"].sum()\n",
    "    N_obs_gen = gen_ngrams[\"counts\"].sum()\n",
    "    N_possible_ngrams = n_codes_unique**n \n",
    "\n",
    "    \n",
    "    # set ps\n",
    "    combo_df[\"ps_real\"] = combo_df[\"counts_real\"] / N_obs_real \n",
    "    combo_df[\"ps_gen\"] = combo_df[\"counts_gen\"] / N_obs_gen \n",
    "    \n",
    "\n",
    "        \n",
    "        \n",
    "    # compute jsd (note: contribution to jsd from any ngram not in either dataset is 0)\n",
    "    combo_df[\"ps_mid\"] = (combo_df[\"ps_real\"] + combo_df[\"ps_gen\"])/2\n",
    "    kl_real_M = sum(rel_entr(combo_df[\"ps_real\"], combo_df[\"ps_mid\"])) \n",
    "    kl_gen_M = sum(rel_entr(combo_df[\"ps_gen\"], combo_df[\"ps_mid\"]))\n",
    "\n",
    "    jsd = (kl_real_M + kl_gen_M)/2\n",
    "    \n",
    "    print(jsd)\n",
    "        "
   ]
  },
  {
   "cell_type": "code",
   "execution_count": 20,
   "id": "e2c188a3-b9f4-49a2-b453-f4693a35e038",
   "metadata": {},
   "outputs": [
    {
     "ename": "NameError",
     "evalue": "name 'n' is not defined",
     "output_type": "error",
     "traceback": [
      "\u001b[0;31m---------------------------------------------------------------------------\u001b[0m",
      "\u001b[0;31mNameError\u001b[0m                                 Traceback (most recent call last)",
      "\u001b[0;32m/var/folders/lq/672qmyl5749_q6568_r1bgmh0000gp/T/ipykernel_66860/581601079.py\u001b[0m in \u001b[0;36m<module>\u001b[0;34m\u001b[0m\n\u001b[1;32m     31\u001b[0m \u001b[0;34m\u001b[0m\u001b[0m\n\u001b[1;32m     32\u001b[0m     \u001b[0;31m# create combo_df, which contains counts of all ngrams for both datasets (note: it omits any ngrams which do not occur in either dataset)\u001b[0m\u001b[0;34m\u001b[0m\u001b[0;34m\u001b[0m\u001b[0m\n\u001b[0;32m---> 33\u001b[0;31m     \u001b[0mgen_ngrams\u001b[0m \u001b[0;34m=\u001b[0m \u001b[0mcreate_ngramcount_df\u001b[0m\u001b[0;34m(\u001b[0m\u001b[0mdf\u001b[0m\u001b[0;34m,\u001b[0m \u001b[0mn\u001b[0m\u001b[0;34m,\u001b[0m \u001b[0mfield\u001b[0m\u001b[0;34m)\u001b[0m\u001b[0;34m\u001b[0m\u001b[0;34m\u001b[0m\u001b[0m\n\u001b[0m\u001b[1;32m     34\u001b[0m     \u001b[0mcombo_df\u001b[0m \u001b[0;34m=\u001b[0m \u001b[0mpd\u001b[0m\u001b[0;34m.\u001b[0m\u001b[0mmerge\u001b[0m\u001b[0;34m(\u001b[0m\u001b[0mreal_ngrams\u001b[0m\u001b[0;34m,\u001b[0m \u001b[0mgen_ngrams\u001b[0m\u001b[0;34m,\u001b[0m \u001b[0mon\u001b[0m\u001b[0;34m=\u001b[0m\u001b[0;34m\"ngram\"\u001b[0m\u001b[0;34m,\u001b[0m \u001b[0mhow\u001b[0m\u001b[0;34m=\u001b[0m\u001b[0;34m\"outer\"\u001b[0m\u001b[0;34m,\u001b[0m \u001b[0msuffixes\u001b[0m\u001b[0;34m=\u001b[0m\u001b[0;34m(\u001b[0m\u001b[0;34m\"_real\"\u001b[0m\u001b[0;34m,\u001b[0m \u001b[0;34m\"_gen\"\u001b[0m\u001b[0;34m)\u001b[0m\u001b[0;34m)\u001b[0m\u001b[0;34m.\u001b[0m\u001b[0mfillna\u001b[0m\u001b[0;34m(\u001b[0m\u001b[0;36m0.0\u001b[0m\u001b[0;34m)\u001b[0m\u001b[0;34m\u001b[0m\u001b[0;34m\u001b[0m\u001b[0m\n\u001b[1;32m     35\u001b[0m \u001b[0;34m\u001b[0m\u001b[0m\n",
      "\u001b[0;31mNameError\u001b[0m: name 'n' is not defined"
     ]
    }
   ],
   "source": [
    "\n",
    "\n",
    "for fname in [\n",
    "    'h-gen_v2b__nld_4-dm_128-nh_2-i_0-dr_0__1-opt_adam-lwi_0-bs_64--vf1-len_80-v2.csv',\n",
    " 'h-gen_v2b-nd__nld_4-dm_128-nh_2-i_2-dr_0__1-opt_adam-lwi_0-bs_64--vf1-len_80-v2.csv',\n",
    " 'h-gen_v2b-nc__nld_4-dm_128-nh_2-i_1-dr_0__1-opt_adam-lwi_0-bs_64--vf1-len_80-v2.csv',\n",
    " 'h-gen_v2b-v__nld_4-dm_128-nh_2-i_0-dr_0__1-opt_adam-lwi_0-bs_64--vf1-len_80-v2.csv',\n",
    " 'h-gtg_0-hd_24-nl_4-bs_32--len_80.csv',\n",
    " 'f-czech-700__epoch-1000_bs-200_lr-g0005-d0005-a0005_epoch_id-299.csv',\n",
    "    ]:\n",
    "    \n",
    "    # print(fname)\n",
    "    \n",
    "    df = pd.read_csv(\"generated_data/\" + fname, parse_dates=['datetime'])\n",
    "    \n",
    "    \n",
    "    \n",
    "    df[\"month\"] = df[\"datetime\"].dt.month\n",
    "    df[\"day\"]   = df[\"datetime\"].dt.day\n",
    "    df[\"dow\"]  =  df[\"datetime\"].dt.dayofweek\n",
    "    df[\"year\"]  = df[\"datetime\"].dt.year\n",
    "\n",
    "    \n",
    "    \n",
    "  \n",
    "    set_tcode_day(df)\n",
    "    \n",
    "    uniq_r = list(real_df.tcode_day.unique())\n",
    "    uniq_g = list(df.tcode_day.unique())\n",
    "    \n",
    "    n_codes_unique = len(set(uniq_r + uniq_g))\n",
    "\n",
    "    \n",
    "    # create combo_df, which contains counts of all ngrams for both datasets (note: it omits any ngrams which do not occur in either dataset)\n",
    "    gen_ngrams = create_ngramcount_df(df, 1, field)\n",
    "    combo_df = pd.merge(real_ngrams, gen_ngrams, on=\"ngram\", how=\"outer\", suffixes=(\"_real\", \"_gen\")).fillna(0.0)\n",
    "    \n",
    "\n",
    "    N_obs_real = real_ngrams[\"counts\"].sum()\n",
    "    N_obs_gen = gen_ngrams[\"counts\"].sum()\n",
    "    N_possible_ngrams = n_codes_unique**n \n",
    "\n",
    "    \n",
    "    # set ps\n",
    "    combo_df[\"ps_real\"] = combo_df[\"counts_real\"] / N_obs_real \n",
    "    combo_df[\"ps_gen\"] = combo_df[\"counts_gen\"] / N_obs_gen \n",
    "    \n",
    "\n",
    "        \n",
    "        \n",
    "    # compute jsd (note: contribution to jsd from any ngram not in either dataset is 0)\n",
    "    combo_df[\"ps_mid\"] = (combo_df[\"ps_real\"] + combo_df[\"ps_gen\"])/2\n",
    "    kl_real_M = sum(rel_entr(combo_df[\"ps_real\"], combo_df[\"ps_mid\"])) \n",
    "    kl_gen_M = sum(rel_entr(combo_df[\"ps_gen\"], combo_df[\"ps_mid\"]))\n",
    "\n",
    "    jsd = (kl_real_M + kl_gen_M)/2\n",
    "    \n",
    "    print(f\"{jsd:0.3f}\")\n",
    "        \n"
   ]
  },
  {
   "cell_type": "markdown",
   "id": "54e8cefc-b9a6-4fb3-a30c-68f76cf6f760",
   "metadata": {},
   "source": [
    "# End new"
   ]
  },
  {
   "cell_type": "code",
   "execution_count": null,
   "id": "ab7bf43d-eb98-4f92-9ee9-598b209941e5",
   "metadata": {},
   "outputs": [],
   "source": []
  },
  {
   "cell_type": "code",
   "execution_count": 25,
   "id": "b2540470-ac2c-40ad-9b2e-d4e90c45815a",
   "metadata": {},
   "outputs": [
    {
     "data": {
      "text/plain": [
       "Index(['Unnamed: 0', 'unnamed: 0', 'tcode', 'amount', 'balance', 'age', 'dif',\n",
       "       'account_id', 'date', 'date.1', 'cum_dif', 'days_passed', 'short_tcode',\n",
       "       'raw_tcode', 'k_symbol', 'operation', 'type', 'datetime', 'raw_amount',\n",
       "       'month', 'day', 'dow', 'year'],\n",
       "      dtype='object')"
      ]
     },
     "execution_count": 25,
     "metadata": {},
     "output_type": "execute_result"
    }
   ],
   "source": [
    "fgen_df.columns"
   ]
  },
  {
   "cell_type": "code",
   "execution_count": 25,
   "id": "fe224e95-1012-4fb1-9426-a8eb3e8b3571",
   "metadata": {},
   "outputs": [
    {
     "data": {
      "text/plain": [
       "Index(['Unnamed: 0', 'unnamed: 0', 'tcode', 'amount', 'balance', 'age', 'dif',\n",
       "       'account_id', 'date', 'date.1', 'cum_dif', 'days_passed', 'short_tcode',\n",
       "       'raw_tcode', 'k_symbol', 'operation', 'type', 'datetime', 'raw_amount',\n",
       "       'month', 'day', 'dow', 'year'],\n",
       "      dtype='object')"
      ]
     },
     "execution_count": 25,
     "metadata": {},
     "output_type": "execute_result"
    }
   ],
   "source": [
    "fgen_df.columns"
   ]
  },
  {
   "cell_type": "code",
   "execution_count": 26,
   "id": "83480e15-a221-43d5-9844-04c9dd043578",
   "metadata": {},
   "outputs": [
    {
     "data": {
      "text/plain": [
       "(array([  1138.,   3039.,   4381.,  17422.,  44882.,  99777., 200452.,\n",
       "        322624., 247946.,   9805.]),\n",
       " array([0. , 0.1, 0.2, 0.3, 0.4, 0.5, 0.6, 0.7, 0.8, 0.9, 1. ]),\n",
       " <BarContainer object of 10 artists>)"
      ]
     },
     "execution_count": 26,
     "metadata": {},
     "output_type": "execute_result"
    },
    {
     "data": {
      "image/png": "[encoded data removed]",
      "text/plain": [
       "<Figure size 432x288 with 1 Axes>"
      ]
     },
     "metadata": {
      "needs_background": "light"
     },
     "output_type": "display_data"
    }
   ],
   "source": [
    "plt.hist(fgen_df.dif.to_list())"
   ]
  },
  {
   "cell_type": "code",
   "execution_count": 27,
   "id": "274bbbc0-b726-430f-9911-14b0f05ea9ed",
   "metadata": {},
   "outputs": [
    {
     "data": {
      "text/plain": [
       "(array([  1138.,   3039.,   4381.,  17422.,  44882.,  99777., 200452.,\n",
       "        322624., 247946.,   9805.]),\n",
       " array([0. , 0.1, 0.2, 0.3, 0.4, 0.5, 0.6, 0.7, 0.8, 0.9, 1. ]),\n",
       " <BarContainer object of 10 artists>)"
      ]
     },
     "execution_count": 27,
     "metadata": {},
     "output_type": "execute_result"
    },
    {
     "data": {
      "image/png": "[encoded data removed]",
      "text/plain": [
       "<Figure size 432x288 with 1 Axes>"
      ]
     },
     "metadata": {
      "needs_background": "light"
     },
     "output_type": "display_data"
    }
   ],
   "source": [
    "plt.hist(fgen_df.days_passed.to_list())"
   ]
  },
  {
   "cell_type": "code",
   "execution_count": 28,
   "id": "80f94d13-5d11-4276-ad2a-20eec0798ea4",
   "metadata": {},
   "outputs": [
    {
     "data": {
      "text/html": [
       "<div>\n",
       "<style scoped>\n",
       "    .dataframe tbody tr th:only-of-type {\n",
       "        vertical-align: middle;\n",
       "    }\n",
       "\n",
       "    .dataframe tbody tr th {\n",
       "        vertical-align: top;\n",
       "    }\n",
       "\n",
       "    .dataframe thead th {\n",
       "        text-align: right;\n",
       "    }\n",
       "</style>\n",
       "<table border=\"1\" class=\"dataframe\">\n",
       "  <thead>\n",
       "    <tr style=\"text-align: right;\">\n",
       "      <th></th>\n",
       "      <th>datetime</th>\n",
       "      <th>days_passed</th>\n",
       "    </tr>\n",
       "  </thead>\n",
       "  <tbody>\n",
       "    <tr>\n",
       "      <th>0</th>\n",
       "      <td>1993-01-01 07:05:42.586394</td>\n",
       "      <td>0.295632</td>\n",
       "    </tr>\n",
       "    <tr>\n",
       "      <th>1</th>\n",
       "      <td>1993-01-01 23:02:35.693192</td>\n",
       "      <td>0.664504</td>\n",
       "    </tr>\n",
       "    <tr>\n",
       "      <th>2</th>\n",
       "      <td>1993-01-02 17:28:18.608781</td>\n",
       "      <td>0.767858</td>\n",
       "    </tr>\n",
       "    <tr>\n",
       "      <th>3</th>\n",
       "      <td>1993-01-03 09:45:02.597772</td>\n",
       "      <td>0.678287</td>\n",
       "    </tr>\n",
       "    <tr>\n",
       "      <th>4</th>\n",
       "      <td>1993-01-04 00:52:44.358923</td>\n",
       "      <td>0.630344</td>\n",
       "    </tr>\n",
       "    <tr>\n",
       "      <th>...</th>\n",
       "      <td>...</td>\n",
       "      <td>...</td>\n",
       "    </tr>\n",
       "    <tr>\n",
       "      <th>951461</th>\n",
       "      <td>1993-05-31 16:14:29.410349</td>\n",
       "      <td>0.523607</td>\n",
       "    </tr>\n",
       "    <tr>\n",
       "      <th>951462</th>\n",
       "      <td>1993-06-01 04:22:16.732698</td>\n",
       "      <td>0.505409</td>\n",
       "    </tr>\n",
       "    <tr>\n",
       "      <th>951463</th>\n",
       "      <td>1993-06-01 15:03:36.685528</td>\n",
       "      <td>0.445370</td>\n",
       "    </tr>\n",
       "    <tr>\n",
       "      <th>951464</th>\n",
       "      <td>1993-06-02 01:14:36.551425</td>\n",
       "      <td>0.424304</td>\n",
       "    </tr>\n",
       "    <tr>\n",
       "      <th>951465</th>\n",
       "      <td>1993-06-02 08:22:25.753564</td>\n",
       "      <td>0.297097</td>\n",
       "    </tr>\n",
       "  </tbody>\n",
       "</table>\n",
       "<p>951466 rows × 2 columns</p>\n",
       "</div>"
      ],
      "text/plain": [
       "                         datetime  days_passed\n",
       "0      1993-01-01 07:05:42.586394     0.295632\n",
       "1      1993-01-01 23:02:35.693192     0.664504\n",
       "2      1993-01-02 17:28:18.608781     0.767858\n",
       "3      1993-01-03 09:45:02.597772     0.678287\n",
       "4      1993-01-04 00:52:44.358923     0.630344\n",
       "...                           ...          ...\n",
       "951461 1993-05-31 16:14:29.410349     0.523607\n",
       "951462 1993-06-01 04:22:16.732698     0.505409\n",
       "951463 1993-06-01 15:03:36.685528     0.445370\n",
       "951464 1993-06-02 01:14:36.551425     0.424304\n",
       "951465 1993-06-02 08:22:25.753564     0.297097\n",
       "\n",
       "[951466 rows x 2 columns]"
      ]
     },
     "execution_count": 28,
     "metadata": {},
     "output_type": "execute_result"
    }
   ],
   "source": [
    "fgen_df[[\"datetime\", 'days_passed']]"
   ]
  },
  {
   "cell_type": "code",
   "execution_count": null,
   "id": "37dfdeef-9fa7-4edf-943c-8d9d11f73213",
   "metadata": {},
   "outputs": [],
   "source": []
  }
 ],
 "metadata": {
  "kernelspec": {
   "display_name": "Python 3 (ipykernel)",
   "language": "python",
   "name": "python3"
  },
  "language_info": {
   "codemirror_mode": {
    "name": "ipython",
    "version": 3
   },
   "file_extension": ".py",
   "mimetype": "text/x-python",
   "name": "python",
   "nbconvert_exporter": "python",
   "pygments_lexer": "ipython3",
   "version": "3.9.7"
  }
 },
 "nbformat": 4,
 "nbformat_minor": 5
}
