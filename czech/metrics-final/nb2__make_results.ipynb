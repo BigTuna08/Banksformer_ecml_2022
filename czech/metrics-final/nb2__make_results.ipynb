{
 "cells": [
  {
   "cell_type": "markdown",
   "id": "documentary-essay",
   "metadata": {},
   "source": [
    "# Notes:"
   ]
  },
  {
   "cell_type": "raw",
   "id": "distinguished-klein",
   "metadata": {},
   "source": [
    "For each transaction, we need:\n",
    "1 - 'datetime' \n",
    "2 - 'raw_amount'\n",
    "3 - either \n",
    "  -- (A) columns for each code in 'cat_code_fields' or \n",
    "  -- (B) tcode column which is a concatination of the codes in 'cat_code_fields'\n",
    "  -- (C) tcode column with 'shortnames' and information in 'codenames.py' for converting (deprecated)"
   ]
  },
  {
   "cell_type": "raw",
   "id": "lonely-equivalent",
   "metadata": {},
   "source": [
    "Need a good way to deal with the various formats of tcodes. \n",
    "Thinking now, maybe it's best to just set a standard format for all sythetic datasets (maybe just all datasets), and do preprocessing before this nb\n",
    "\n",
    "\n",
    "Fields that are needed\n",
    "\n",
    "raw_amount\n",
    "amount\n",
    "\n",
    "\n",
    "\"day\", \"dow\", \"month\", \"dtme\"\n",
    "\"k_symbol\", \"operation\", \"type\"\n",
    "\"amount\", \"raw_amount\", \"td\"\n"
   ]
  },
  {
   "cell_type": "markdown",
   "id": "cooked-munich",
   "metadata": {},
   "source": [
    "# Set parameters"
   ]
  },
  {
   "cell_type": "code",
   "execution_count": 1,
   "id": "central-giving",
   "metadata": {},
   "outputs": [],
   "source": [
    "# path to real dataset\n",
    "real_data_loc = \"real_data/final_df--czech.csv\"\n",
    "\n",
    "# path to folder containing generated dataset\n",
    "gen_data_folder = \"generated_data/\"  \n",
    "\n",
    "# path to folder for saving results objects\n",
    "results_folder = \"results/\""
   ]
  },
  {
   "cell_type": "code",
   "execution_count": null,
   "id": "checked-soldier",
   "metadata": {},
   "outputs": [],
   "source": [
    "\n",
    "\n"
   ]
  },
  {
   "cell_type": "markdown",
   "id": "rising-venezuela",
   "metadata": {},
   "source": [
    "##### Continous metrics"
   ]
  },
  {
   "cell_type": "raw",
   "id": "pleasant-worse",
   "metadata": {},
   "source": [
    "\n"
   ]
  },
  {
   "cell_type": "markdown",
   "id": "incident-combat",
   "metadata": {},
   "source": [
    "# Setup"
   ]
  },
  {
   "cell_type": "code",
   "execution_count": 2,
   "id": "initial-belfast",
   "metadata": {},
   "outputs": [],
   "source": [
    "import os\n",
    "# import sys\n",
    "import time\n",
    "# import calendar\n",
    "# import datetime\n",
    "\n",
    "# import numpy as np\n",
    "# import matplotlib.pyplot as plt\n",
    "# import seaborn as sns\n",
    "# import pandas as pd\n",
    "\n",
    "# import scipy as sp\n",
    "# from scipy import stats\n",
    "\n",
    "\n",
    "\n",
    "\n",
    "from mylib.metrics import compute_all_metrics"
   ]
  },
  {
   "cell_type": "code",
   "execution_count": null,
   "id": "prompt-madison",
   "metadata": {},
   "outputs": [],
   "source": []
  },
  {
   "cell_type": "code",
   "execution_count": null,
   "id": "removable-conflict",
   "metadata": {},
   "outputs": [],
   "source": []
  },
  {
   "cell_type": "code",
   "execution_count": null,
   "id": "every-nickel",
   "metadata": {},
   "outputs": [],
   "source": []
  },
  {
   "cell_type": "markdown",
   "id": "protecting-momentum",
   "metadata": {},
   "source": [
    "# Setup dfs"
   ]
  },
  {
   "cell_type": "code",
   "execution_count": 3,
   "id": "champion-category",
   "metadata": {},
   "outputs": [],
   "source": [
    "start_time  = time.time()\n",
    "new_time = start_time"
   ]
  },
  {
   "cell_type": "code",
   "execution_count": 4,
   "id": "constitutional-germany",
   "metadata": {},
   "outputs": [
    {
     "data": {
      "text/plain": [
       "['f-czech-700__epoch-1000_bs-50_lr-g0001-d0001-a0001_epoch_id-499.csv',\n",
       " '.DS_Store',\n",
       " 'h-gen_v2b-nd__nld_4-dm_128-nh_2-i_2-dr_0__1-opt_adam-lwi_0-bs_64--vf1-len_80-v2.csv',\n",
       " 'h-gen_v2a__nld_4-dm_128-nh_2-i_1-dr_0__1-opt_adam-lwi_0-bs_64--vf1-len_80-v2.csv',\n",
       " 'f-czech-700__epoch-1000_bs-200_lr-g0005-d0005-a0005_epoch_id-299.csv',\n",
       " 'h-gen_v2b__nld_4-dm_128-nh_2-i_0-dr_0__1-opt_adam-lwi_0-bs_64--vf1-len_80-v2.csv',\n",
       " 'h-gtg_0-hd_24-nl_4-bs_32--len_80.csv',\n",
       " 'h-gen_v2b-v__nld_4-dm_128-nh_2-i_0-dr_0__1-opt_adam-lwi_0-bs_64--vf1-len_80-v2.csv',\n",
       " 'gen_v2b-nc__nld_4-dm_128-nh_2-i_1-dr_0__1-opt_adam-lwi_0-bs_64--vf1-len_100-v2.csv']"
      ]
     },
     "execution_count": 4,
     "metadata": {},
     "output_type": "execute_result"
    }
   ],
   "source": [
    "os.listdir(gen_data_folder)"
   ]
  },
  {
   "cell_type": "raw",
   "id": "applicable-indie",
   "metadata": {},
   "source": [
    "fname in os.listdir(results_folder)"
   ]
  },
  {
   "cell_type": "raw",
   "id": "religious-truck",
   "metadata": {},
   "source": [
    "fname + \".result\" in os.listdir(results_folder)"
   ]
  },
  {
   "cell_type": "code",
   "execution_count": 5,
   "id": "454996a8-2d16-4cf4-84f5-b477d995df8a",
   "metadata": {},
   "outputs": [
    {
     "data": {
      "text/plain": [
       "['h-gen_v2b-nd__nld_4-dm_128-nh_2-i_2-dr_0__1-opt_adam-lwi_0-bs_64--vf1-len_80-v2.result',\n",
       " 'gen_v2b-nc__nld_4-dm_128-nh_2-i_1-dr_0__1-opt_adam-lwi_0-bs_64--vf1-len_100-v2.result',\n",
       " 'h-gtg_0-hd_24-nl_4-bs_32--len_80.result',\n",
       " 'h-gen_v2a__nld_4-dm_128-nh_2-i_1-dr_0__1-opt_adam-lwi_0-bs_64--vf1-len_80-v2.result',\n",
       " 'h-gen_v2b__nld_4-dm_128-nh_2-i_0-dr_0__1-opt_adam-lwi_0-bs_64--vf1-len_80-v2.result',\n",
       " 'h-gen_v2b-v__nld_4-dm_128-nh_2-i_0-dr_0__1-opt_adam-lwi_0-bs_64--vf1-len_80-v2.result']"
      ]
     },
     "metadata": {},
     "output_type": "display_data"
    }
   ],
   "source": [
    "if results_folder.replace(\"/\", \"\")  in os.listdir():\n",
    "    display(os.listdir(results_folder))\n",
    "else:\n",
    "    os.mkdir(results_folder)"
   ]
  },
  {
   "cell_type": "code",
   "execution_count": 6,
   "id": "derived-adobe",
   "metadata": {},
   "outputs": [],
   "source": [
    "import pandas as pd"
   ]
  },
  {
   "cell_type": "code",
   "execution_count": 10,
   "id": "disciplinary-tennis",
   "metadata": {},
   "outputs": [
    {
     "name": "stdout",
     "output_type": "stream",
     "text": [
      "\n",
      "Skipping, result already exists for: f-czech-700__epoch-1000_bs-200_lr-g0005-d0005-a0005_epoch_id-299.result\n",
      "\n",
      "Skipping, result already exists for: f-czech-700__epoch-1000_bs-50_lr-g0001-d0001-a0001_epoch_id-499.result\n",
      "\n",
      "Skipping, result already exists for: gen_v2b-nc__nld_4-dm_128-nh_2-i_1-dr_0__1-opt_adam-lwi_0-bs_64--vf1-len_100-v2.result\n",
      "\n",
      "Skipping, result already exists for: h-gen_v2a__nld_4-dm_128-nh_2-i_1-dr_0__1-opt_adam-lwi_0-bs_64--vf1-len_80-v2.result\n",
      "\n",
      "Begining to process: h-gen_v2b-nc__nld_4-dm_128-nh_2-i_1-dr_0__1-opt_adam-lwi_0-bs_64--vf1-len_80-v2.csv\n",
      "Took  333288.641 secs since notebook start. ( 331814.282 since last update) \n",
      "\n",
      "Skipping, result already exists for: h-gen_v2b-nd__nld_4-dm_128-nh_2-i_2-dr_0__1-opt_adam-lwi_0-bs_64--vf1-len_80-v2.result\n",
      "\n",
      "Skipping, result already exists for: h-gen_v2b-v__nld_4-dm_128-nh_2-i_0-dr_0__1-opt_adam-lwi_0-bs_64--vf1-len_80-v2.result\n",
      "\n",
      "Skipping, result already exists for: h-gen_v2b__nld_4-dm_128-nh_2-i_0-dr_0__1-opt_adam-lwi_0-bs_64--vf1-len_80-v2.result\n",
      "\n",
      "Skipping, result already exists for: h-gtg_0-hd_24-nl_4-bs_32--len_80.result\n"
     ]
    }
   ],
   "source": [
    "failed_on = []\n",
    "\n",
    "for fname in sorted(os.listdir(gen_data_folder)):\n",
    "    \n",
    "    if not \".csv\" in fname:\n",
    "        continue \n",
    "        \n",
    "    result_fname = fname.replace(\".csv\", \".result\")\n",
    "    print()\n",
    "        \n",
    "    if result_fname in os.listdir(results_folder):\n",
    "        print(\"Skipping, result already exists for:\", result_fname)\n",
    "        continue\n",
    "    \n",
    "    \n",
    "    print(\"Begining to process:\", fname)\n",
    "    \n",
    "    try:\n",
    "\n",
    "        gen_data_loc = os.path.join(gen_data_folder, fname)\n",
    "        result_loc = os.path.join(results_folder, result_fname)\n",
    "\n",
    "        full_result = compute_all_metrics(real_data_loc, gen_data_loc)\n",
    "\n",
    "        full_result.save(result_loc)\n",
    "        \n",
    "        \n",
    "    except Exception as e:\n",
    "        failed_on.append((fname, e))\n",
    "        print(f\"Failed to update: {fname}. ({e})\", )\n",
    "    \n",
    "    prev_time = new_time \n",
    "    new_time = time.time()\n",
    "    print(f\"Took {new_time - start_time: .3f} secs since notebook start. ({new_time - prev_time: .3f} since last update) \")"
   ]
  },
  {
   "cell_type": "code",
   "execution_count": null,
   "id": "284c2a9d-ef8b-42dd-b09a-0476ae118501",
   "metadata": {},
   "outputs": [],
   "source": [
    "2"
   ]
  },
  {
   "cell_type": "raw",
   "id": "adjusted-night",
   "metadata": {},
   "source": [
    "full_result = compute_all_metrics(real_df, gen_df)"
   ]
  },
  {
   "cell_type": "raw",
   "id": "dressed-knowing",
   "metadata": {},
   "source": [
    "full_result = compute_all_metrics(real_data_loc, gen_data_loc)"
   ]
  },
  {
   "cell_type": "code",
   "execution_count": null,
   "id": "atlantic-metadata",
   "metadata": {},
   "outputs": [],
   "source": []
  },
  {
   "cell_type": "code",
   "execution_count": null,
   "id": "adult-argentina",
   "metadata": {},
   "outputs": [],
   "source": []
  },
  {
   "cell_type": "code",
   "execution_count": null,
   "id": "mature-resistance",
   "metadata": {},
   "outputs": [],
   "source": []
  },
  {
   "cell_type": "code",
   "execution_count": null,
   "id": "verbal-remains",
   "metadata": {},
   "outputs": [],
   "source": [
    "prev_time = new_time \n",
    "new_time = time.time()\n",
    "print(f\"Took {new_time - start_time: .3f} secs since notebook start. ({new_time - prev_time: .3f} since last update) \")"
   ]
  },
  {
   "cell_type": "code",
   "execution_count": null,
   "id": "municipal-ethics",
   "metadata": {},
   "outputs": [],
   "source": []
  }
 ],
 "metadata": {
  "kernelspec": {
   "display_name": "Python 3 (ipykernel)",
   "language": "python",
   "name": "python3"
  },
  "language_info": {
   "codemirror_mode": {
    "name": "ipython",
    "version": 3
   },
   "file_extension": ".py",
   "mimetype": "text/x-python",
   "name": "python",
   "nbconvert_exporter": "python",
   "pygments_lexer": "ipython3",
   "version": "3.9.7"
  }
 },
 "nbformat": 4,
 "nbformat_minor": 5
}
