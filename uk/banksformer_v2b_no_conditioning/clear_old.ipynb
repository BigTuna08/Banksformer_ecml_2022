{
 "cells": [
  {
   "cell_type": "code",
   "execution_count": null,
   "id": "c6c2da96-b506-497b-8e63-c518667a155e",
   "metadata": {},
   "outputs": [],
   "source": []
  },
  {
   "cell_type": "code",
   "execution_count": 1,
   "id": "443437aa-4585-4e29-a54b-49eab0a17dd8",
   "metadata": {},
   "outputs": [],
   "source": [
    "!rm -r checkpoints/"
   ]
  },
  {
   "cell_type": "code",
   "execution_count": 2,
   "id": "55f48cac-67c2-4182-b257-be7dd2113737",
   "metadata": {},
   "outputs": [],
   "source": [
    "!rm -r stored_data/"
   ]
  },
  {
   "cell_type": "code",
   "execution_count": 3,
   "id": "13d0e235-5c75-41ac-be76-4e1bdd27db84",
   "metadata": {},
   "outputs": [],
   "source": [
    "!rm -r generated_data/"
   ]
  },
  {
   "cell_type": "code",
   "execution_count": 4,
   "id": "59976700-2740-483f-9629-9f7b8447803b",
   "metadata": {},
   "outputs": [],
   "source": [
    "!rm -r generation_results/"
   ]
  },
  {
   "cell_type": "code",
   "execution_count": 5,
   "id": "b49a2248-371f-44c7-a5c8-a4af01bf705d",
   "metadata": {},
   "outputs": [],
   "source": [
    "!rm -r training_history"
   ]
  },
  {
   "cell_type": "code",
   "execution_count": null,
   "id": "4d859ed7-aede-453c-88d8-4cf92d809fae",
   "metadata": {},
   "outputs": [],
   "source": []
  },
  {
   "cell_type": "code",
   "execution_count": 6,
   "id": "9ccea793-9d78-4464-8340-fc7ecfd9a644",
   "metadata": {},
   "outputs": [],
   "source": [
    "!mkdir checkpoints/"
   ]
  },
  {
   "cell_type": "code",
   "execution_count": 7,
   "id": "99261dce-cda7-4ea9-b98a-1cad69a09050",
   "metadata": {},
   "outputs": [],
   "source": [
    "!mkdir stored_data/"
   ]
  },
  {
   "cell_type": "code",
   "execution_count": 8,
   "id": "59440b3b-0494-4dbe-9c14-805d9e8c1a17",
   "metadata": {},
   "outputs": [],
   "source": [
    "!mkdir generated_data/"
   ]
  },
  {
   "cell_type": "code",
   "execution_count": 9,
   "id": "f16758c7-311c-4d7a-87c1-24513407df56",
   "metadata": {},
   "outputs": [],
   "source": [
    "!mkdir generation_results/"
   ]
  },
  {
   "cell_type": "code",
   "execution_count": 10,
   "id": "7c620d26-05cd-4171-979e-74416db0144a",
   "metadata": {},
   "outputs": [],
   "source": [
    "!mkdir training_history"
   ]
  },
  {
   "cell_type": "code",
   "execution_count": null,
   "id": "ec72f53a-8196-494b-83f7-33b0f38f00c9",
   "metadata": {},
   "outputs": [],
   "source": []
  }
 ],
 "metadata": {
  "kernelspec": {
   "display_name": "Python 3 (ipykernel)",
   "language": "python",
   "name": "python3"
  },
  "language_info": {
   "codemirror_mode": {
    "name": "ipython",
    "version": 3
   },
   "file_extension": ".py",
   "mimetype": "text/x-python",
   "name": "python",
   "nbconvert_exporter": "python",
   "pygments_lexer": "ipython3",
   "version": "3.9.7"
  }
 },
 "nbformat": 4,
 "nbformat_minor": 5
}
