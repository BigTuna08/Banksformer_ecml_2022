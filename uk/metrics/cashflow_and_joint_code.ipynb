{
 "cells": [
  {
   "cell_type": "code",
   "execution_count": 1,
   "id": "c1a0a759-53f2-4d9b-bedf-fff103440655",
   "metadata": {},
   "outputs": [],
   "source": [
    "import os\n",
    "import sys\n",
    "import time\n",
    "import calendar\n",
    "import datetime\n",
    "\n",
    "import numpy as np\n",
    "import matplotlib.pyplot as plt\n",
    "import seaborn as sns\n",
    "import pandas as pd\n",
    "\n",
    "import scipy as sp\n",
    "from scipy import stats\n",
    "# import tensorflow as tf"
   ]
  },
  {
   "cell_type": "code",
   "execution_count": 2,
   "id": "7bef3ea9-c448-4022-babd-1bd51bc77a89",
   "metadata": {},
   "outputs": [],
   "source": [
    "from scipy.special import rel_entr\n",
    "from scipy.stats import wasserstein_distance"
   ]
  },
  {
   "cell_type": "code",
   "execution_count": null,
   "id": "de09d27e-f233-48a4-8b1b-8d6788e95f3d",
   "metadata": {},
   "outputs": [],
   "source": []
  },
  {
   "cell_type": "code",
   "execution_count": 3,
   "id": "eb912007-b5fa-4e3b-a13e-4c7d8411ab93",
   "metadata": {},
   "outputs": [
    {
     "name": "stdout",
     "output_type": "stream",
     "text": [
      "541.8145429885301\n",
      "814.8736765705576\n",
      "1418.7622942078024\n",
      "1402.2994419699533\n",
      "1460.7071648290867\n",
      "1051.152169134766\n"
     ]
    }
   ],
   "source": [
    "\n",
    "real_df = pd.read_csv(f\"real_data/final_df--uk.csv\", parse_dates=[\"datetime\"])\n",
    "real_df[\"days_passed\"] = real_df[\"td\"]\n",
    "\n",
    "real_df[\"Amount\"] = real_df.amount\n",
    "real_df.amount = real_df.amount.apply(abs)\n",
    "\n",
    "\n",
    "gbr = real_df[[\"account_id\", \"month\", \"raw_amount\", \"year\"]].groupby([\"account_id\", \"month\", \"year\"],as_index=False)[\"raw_amount\"].sum()\n",
    "\n",
    "for fname in ['generated_data/gen_v2b__nld_4-dm_128-nh_2-i_1-dr_0__1-opt_adam-lwi_0-bs_64--vf1-len_20-v2.csv',\n",
    " 'generated_data/gen_v2b-nd__nld_4-dm_128-nh_2-i_1-dr_0__1-opt_adam-lwi_0-bs_64--vf1-len_20-v2.csv',\n",
    " 'generated_data/gen_v2b-nc__nld_4-dm_128-nh_2-i_1-dr_0__1-opt_adam-lwi_0-bs_64--vf1-len_20-v2.csv',\n",
    " 'generated_data/gen_v2b-v__nld_4-dm_128-nh_2-i_2-dr_0__1-opt_adam-lwi_0-bs_64--vf1-len_20-v2.csv',\n",
    " 'generated_data/tg_0-hd_24-nl_4-bs_64--len_20.csv',\n",
    "'generated_data/dg_data_new.csv']:\n",
    "    \n",
    "    # print(fname)\n",
    "    \n",
    "    gdf = pd.read_csv(fname, parse_dates=['datetime'])\n",
    "    \n",
    "    \n",
    "    \n",
    "    gdf[\"month\"] = gdf[\"datetime\"].dt.month\n",
    "    gdf[\"day\"]   = gdf[\"datetime\"].dt.day\n",
    "    gdf[\"dow\"]  =  gdf[\"datetime\"].dt.dayofweek\n",
    "    gdf[\"year\"]  = gdf[\"datetime\"].dt.year\n",
    "\n",
    "\n",
    "# gbr = real_df[[\"account_id\", \"month\", \"raw_amount\", \"year\"]].groupby([\"account_id\", \"month\", \"year\"],as_index=False)[\"raw_amount\"].sum()\n",
    "    gbg = gdf[[\"account_id\", \"month\", \"raw_amount\", \"year\"]].groupby([\"account_id\", \"month\", \"year\"],as_index=False)[\"raw_amount\"].sum()\n",
    "\n",
    "    wd = wasserstein_distance(gbr.raw_amount, gbg.raw_amount)\n",
    "    print(wd)\n",
    "    # print(\"Wasserstein between real is\", wd, \"\\n\\n\")\n",
    "    \n",
    "    "
   ]
  },
  {
   "cell_type": "code",
   "execution_count": 4,
   "id": "8cd461c2-753d-43ea-b2a4-a8d4c1b3255a",
   "metadata": {},
   "outputs": [
    {
     "data": {
      "text/plain": [
       "877.3"
      ]
     },
     "execution_count": 4,
     "metadata": {},
     "output_type": "execute_result"
    }
   ],
   "source": [
    "541.8\n",
    "814.8\n",
    "1418\n",
    "1402\n",
    "1460\n",
    "1051"
   ]
  },
  {
   "cell_type": "markdown",
   "id": "05316112-c0f7-49e3-8bc1-b6c398002d6f",
   "metadata": {},
   "source": [
    "# Joint date, tcode"
   ]
  },
  {
   "cell_type": "code",
   "execution_count": 6,
   "id": "e2c188a3-b9f4-49a2-b453-f4693a35e038",
   "metadata": {},
   "outputs": [
    {
     "name": "stdout",
     "output_type": "stream",
     "text": [
      "With field = dow \n",
      "\n",
      "\n",
      "0.008\n",
      "0.062\n",
      "0.024\n",
      "0.063\n",
      "0.077\n",
      "0.061\n"
     ]
    }
   ],
   "source": [
    "date_feature = \"dow\"\n",
    "\n",
    "\n",
    "def set_tcode_date(df, date_feature):\n",
    "    df[f'tcode_{date_feature}'] = df.tcode + \"---\" + df[date_feature].astype(str)\n",
    "    \n",
    "\n",
    "def get_counts(df, field):\n",
    "    return df[date_feature].value_counts().reset_index().rename(columns={'index':'value', date_feature:'counts'})\n",
    "\n",
    "\n",
    "field = f'tcode_{date_feature}'\n",
    "\n",
    "\n",
    "set_tcode_date(real_df, date_feature)\n",
    "\n",
    "\n",
    "\n",
    "\n",
    "# real_ngrams = create_ngramcount_df(real_df, n, field)\n",
    "# real_ngrams = real_df[field].value_counts().reset_index().rename(columns={'index':'ngram'})\n",
    "\n",
    "real_ngrams = get_counts(real_df, date_feature)\n",
    "\n",
    "print(\"With field =\", date_feature, \"\\n\\n\")\n",
    "\n",
    "\n",
    "for fname in ['generated_data/gen_v2b__nld_4-dm_128-nh_2-i_1-dr_0__1-opt_adam-lwi_0-bs_64--vf1-len_20-v2.csv',\n",
    " 'generated_data/gen_v2b-nd__nld_4-dm_128-nh_2-i_1-dr_0__1-opt_adam-lwi_0-bs_64--vf1-len_20-v2.csv',\n",
    " 'generated_data/gen_v2b-nc__nld_4-dm_128-nh_2-i_1-dr_0__1-opt_adam-lwi_0-bs_64--vf1-len_20-v2.csv',\n",
    " 'generated_data/gen_v2b-v__nld_4-dm_128-nh_2-i_2-dr_0__1-opt_adam-lwi_0-bs_64--vf1-len_20-v2.csv',\n",
    " 'generated_data/tg_0-hd_24-nl_4-bs_64--len_20.csv',\n",
    "'generated_data/dg_data_new.csv']:\n",
    "    \n",
    "    # print(fname)\n",
    "    \n",
    "    df = pd.read_csv(fname, parse_dates=['datetime'])\n",
    "    \n",
    "    \n",
    "    \n",
    "    df[\"month\"] = df[\"datetime\"].dt.month\n",
    "    df[\"day\"]   = df[\"datetime\"].dt.day\n",
    "    df[\"dow\"]  =  df[\"datetime\"].dt.dayofweek\n",
    "    df[\"year\"]  = df[\"datetime\"].dt.year\n",
    "\n",
    "    \n",
    "    \n",
    "  \n",
    "    set_tcode_date(df, date_feature)\n",
    "    \n",
    "\n",
    "    \n",
    "    # create combo_df, which contains counts of all ngrams for both datasets (note: it omits any ngrams which do not occur in either dataset)\n",
    "    gen_ngrams = get_counts(df, date_feature)\n",
    "    combo_df = pd.merge(real_ngrams, gen_ngrams, on=\"value\", how=\"outer\", suffixes=(\"_real\", \"_gen\")).fillna(0.0)\n",
    "\n",
    "\n",
    "    N_obs_real = real_ngrams[\"counts\"].sum()\n",
    "    N_obs_gen = gen_ngrams[\"counts\"].sum()\n",
    "\n",
    "    \n",
    "    # set ps\n",
    "    combo_df[\"ps_real\"] = combo_df[\"counts_real\"] / N_obs_real \n",
    "    combo_df[\"ps_gen\"] = combo_df[\"counts_gen\"] / N_obs_gen \n",
    "    \n",
    "\n",
    "        \n",
    "        \n",
    "    # compute jsd (note: contribution to jsd from any ngram not in either dataset is 0)\n",
    "    combo_df[\"ps_mid\"] = (combo_df[\"ps_real\"] + combo_df[\"ps_gen\"])/2\n",
    "    kl_real_M = sum(rel_entr(combo_df[\"ps_real\"], combo_df[\"ps_mid\"])) \n",
    "    kl_gen_M = sum(rel_entr(combo_df[\"ps_gen\"], combo_df[\"ps_mid\"]))\n",
    "\n",
    "    jsd = (kl_real_M + kl_gen_M)/2\n",
    "    \n",
    "    print(f\"{jsd:0.3f}\")\n",
    "        \n"
   ]
  },
  {
   "cell_type": "code",
   "execution_count": 7,
   "id": "dd7cf431-e453-40b6-b25a-dd5e34920464",
   "metadata": {},
   "outputs": [
    {
     "name": "stdout",
     "output_type": "stream",
     "text": [
      "With field = day \n",
      "\n",
      "\n",
      "0.034\n",
      "0.044\n",
      "0.061\n",
      "0.042\n",
      "0.089\n",
      "0.039\n"
     ]
    }
   ],
   "source": [
    "date_feature = \"day\"\n",
    "\n",
    "\n",
    "def set_tcode_date(df, date_feature):\n",
    "    df[f'tcode_{date_feature}'] = df.tcode + \"---\" + df[date_feature].astype(str)\n",
    "    \n",
    "\n",
    "def get_counts(df, field):\n",
    "    return df[date_feature].value_counts().reset_index().rename(columns={'index':'value', date_feature:'counts'})\n",
    "\n",
    "\n",
    "field = f'tcode_{date_feature}'\n",
    "\n",
    "\n",
    "set_tcode_date(real_df, date_feature)\n",
    "\n",
    "\n",
    "\n",
    "\n",
    "# real_ngrams = create_ngramcount_df(real_df, n, field)\n",
    "# real_ngrams = real_df[field].value_counts().reset_index().rename(columns={'index':'ngram'})\n",
    "\n",
    "real_ngrams = get_counts(real_df, date_feature)\n",
    "\n",
    "print(\"With field =\", date_feature, \"\\n\\n\")\n",
    "\n",
    "\n",
    "for fname in ['generated_data/gen_v2b__nld_4-dm_128-nh_2-i_1-dr_0__1-opt_adam-lwi_0-bs_64--vf1-len_20-v2.csv',\n",
    " 'generated_data/gen_v2b-nd__nld_4-dm_128-nh_2-i_1-dr_0__1-opt_adam-lwi_0-bs_64--vf1-len_20-v2.csv',\n",
    " 'generated_data/gen_v2b-nc__nld_4-dm_128-nh_2-i_1-dr_0__1-opt_adam-lwi_0-bs_64--vf1-len_20-v2.csv',\n",
    " 'generated_data/gen_v2b-v__nld_4-dm_128-nh_2-i_2-dr_0__1-opt_adam-lwi_0-bs_64--vf1-len_20-v2.csv',\n",
    " 'generated_data/tg_0-hd_24-nl_4-bs_64--len_20.csv',\n",
    "'generated_data/dg_data_new.csv']:\n",
    "    \n",
    "    # print(fname)\n",
    "    \n",
    "    df = pd.read_csv(fname, parse_dates=['datetime'])\n",
    "    \n",
    "    \n",
    "    \n",
    "    df[\"month\"] = df[\"datetime\"].dt.month\n",
    "    df[\"day\"]   = df[\"datetime\"].dt.day\n",
    "    df[\"dow\"]  =  df[\"datetime\"].dt.dayofweek\n",
    "    df[\"year\"]  = df[\"datetime\"].dt.year\n",
    "\n",
    "    \n",
    "    \n",
    "  \n",
    "    set_tcode_date(df, date_feature)\n",
    "    \n",
    "\n",
    "    \n",
    "    # create combo_df, which contains counts of all ngrams for both datasets (note: it omits any ngrams which do not occur in either dataset)\n",
    "    gen_ngrams = get_counts(df, date_feature)\n",
    "    combo_df = pd.merge(real_ngrams, gen_ngrams, on=\"value\", how=\"outer\", suffixes=(\"_real\", \"_gen\")).fillna(0.0)\n",
    "\n",
    "\n",
    "    N_obs_real = real_ngrams[\"counts\"].sum()\n",
    "    N_obs_gen = gen_ngrams[\"counts\"].sum()\n",
    "\n",
    "    \n",
    "    # set ps\n",
    "    combo_df[\"ps_real\"] = combo_df[\"counts_real\"] / N_obs_real \n",
    "    combo_df[\"ps_gen\"] = combo_df[\"counts_gen\"] / N_obs_gen \n",
    "    \n",
    "\n",
    "        \n",
    "        \n",
    "    # compute jsd (note: contribution to jsd from any ngram not in either dataset is 0)\n",
    "    combo_df[\"ps_mid\"] = (combo_df[\"ps_real\"] + combo_df[\"ps_gen\"])/2\n",
    "    kl_real_M = sum(rel_entr(combo_df[\"ps_real\"], combo_df[\"ps_mid\"])) \n",
    "    kl_gen_M = sum(rel_entr(combo_df[\"ps_gen\"], combo_df[\"ps_mid\"]))\n",
    "\n",
    "    jsd = (kl_real_M + kl_gen_M)/2\n",
    "    \n",
    "    print(f\"{jsd:0.3f}\")\n",
    "        \n"
   ]
  },
  {
   "cell_type": "markdown",
   "id": "16f75278-b09c-4945-b0a7-18c66d663fba",
   "metadata": {},
   "source": [
    "# New - can go in own nb - compare datasets"
   ]
  },
  {
   "cell_type": "code",
   "execution_count": 9,
   "id": "4fcea65c-c833-4d20-8e6f-18cd68885154",
   "metadata": {},
   "outputs": [],
   "source": [
    "real_df_cz = pd.read_csv(\"../../code/banksformer_v2a/stored_data/final_df--czech.csv\", parse_dates=['datetime'])"
   ]
  },
  {
   "cell_type": "code",
   "execution_count": 18,
   "id": "adfbcb1b-3835-450a-974f-8baf1fd20f73",
   "metadata": {},
   "outputs": [],
   "source": [
    "# real_df_cz = pd.read_csv('/Users/kylenickerson/Desktop/verafin_proj_2/czech-banking-data/lpetrocelli-some-translatedreformatted-czech-banking-data/data/data/new_transaction.csv')"
   ]
  },
  {
   "cell_type": "code",
   "execution_count": 16,
   "id": "b666022d-4760-43e5-b223-70e1289d428f",
   "metadata": {},
   "outputs": [],
   "source": [
    "# real_df_cz = pd.read_csv(\"../../code/banksformer_v2a/data/tr_by_acct_w_age.csv\")"
   ]
  },
  {
   "cell_type": "code",
   "execution_count": 10,
   "id": "46eb1e9d-145f-403e-8700-a71bb2810412",
   "metadata": {},
   "outputs": [],
   "source": [
    "real_df_uk = pd.read_csv(f\"real_data/final_df--uk.csv\", parse_dates=[\"datetime\"])"
   ]
  },
  {
   "cell_type": "code",
   "execution_count": 11,
   "id": "24e81847-794a-4720-be9d-c203c5afd202",
   "metadata": {},
   "outputs": [
    {
     "data": {
      "text/plain": [
       "(Timestamp('1993-01-01 00:00:00'), Timestamp('1998-12-31 00:00:00'))"
      ]
     },
     "execution_count": 11,
     "metadata": {},
     "output_type": "execute_result"
    }
   ],
   "source": [
    "real_df_cz.datetime.min(),real_df_cz.datetime.max()"
   ]
  },
  {
   "cell_type": "code",
   "execution_count": 12,
   "id": "9f233777-13de-46d5-b344-74dc8894570b",
   "metadata": {},
   "outputs": [
    {
     "data": {
      "text/plain": [
       "Timedelta('2190 days 00:00:00')"
      ]
     },
     "execution_count": 12,
     "metadata": {},
     "output_type": "execute_result"
    }
   ],
   "source": [
    "real_df_cz.datetime.max() - real_df_cz.datetime.min() "
   ]
  },
  {
   "cell_type": "code",
   "execution_count": 13,
   "id": "63d5eb58-1e4b-4320-984a-03110b743f28",
   "metadata": {},
   "outputs": [
    {
     "data": {
      "text/plain": [
       "Timedelta('54 days 14:00:00')"
      ]
     },
     "execution_count": 13,
     "metadata": {},
     "output_type": "execute_result"
    }
   ],
   "source": [
    "real_df_uk.datetime.max() - real_df_uk.datetime.min() "
   ]
  },
  {
   "cell_type": "code",
   "execution_count": 19,
   "id": "58a15f64-3599-49e3-82c5-5d17415bba22",
   "metadata": {},
   "outputs": [
    {
     "data": {
      "text/plain": [
       "(1056320, 100000)"
      ]
     },
     "execution_count": 19,
     "metadata": {},
     "output_type": "execute_result"
    }
   ],
   "source": [
    "len(real_df_cz), len(real_df_uk)"
   ]
  },
  {
   "cell_type": "code",
   "execution_count": 21,
   "id": "18c4e9b7-3d33-496c-9e63-9cbb5230d0f5",
   "metadata": {},
   "outputs": [
    {
     "data": {
      "text/plain": [
       "(1.05632, 1.0)"
      ]
     },
     "execution_count": 21,
     "metadata": {},
     "output_type": "execute_result"
    }
   ],
   "source": [
    "len(real_df_cz)/10**6, len(real_df_uk)/10**5"
   ]
  },
  {
   "cell_type": "code",
   "execution_count": 39,
   "id": "f262fafa-514a-4928-afb0-eb95d2854ce0",
   "metadata": {},
   "outputs": [
    {
     "data": {
      "text/plain": [
       "(Timestamp('2017-04-01 06:00:00'), Timestamp('2017-05-25 20:00:00'))"
      ]
     },
     "execution_count": 39,
     "metadata": {},
     "output_type": "execute_result"
    }
   ],
   "source": [
    "real_df_uk.datetime.min(),real_df_uk.datetime.max()"
   ]
  },
  {
   "cell_type": "code",
   "execution_count": 23,
   "id": "902ed24a-9c2e-44e5-a888-b8645787f19f",
   "metadata": {},
   "outputs": [],
   "source": [
    "def set_raw_amount(df):\n",
    "    df[\"raw_amount\"] = df.amount * df.type.apply(lambda x: -1 if x.upper() == \"DEBIT\" else 1)  \n",
    "    "
   ]
  },
  {
   "cell_type": "code",
   "execution_count": 24,
   "id": "ffe516f5-6d82-46a9-a979-a5fe5d03712f",
   "metadata": {},
   "outputs": [
    {
     "data": {
      "text/html": [
       "<div>\n",
       "<style scoped>\n",
       "    .dataframe tbody tr th:only-of-type {\n",
       "        vertical-align: middle;\n",
       "    }\n",
       "\n",
       "    .dataframe tbody tr th {\n",
       "        vertical-align: top;\n",
       "    }\n",
       "\n",
       "    .dataframe thead th {\n",
       "        text-align: right;\n",
       "    }\n",
       "</style>\n",
       "<table border=\"1\" class=\"dataframe\">\n",
       "  <thead>\n",
       "    <tr style=\"text-align: right;\">\n",
       "      <th></th>\n",
       "      <th>unnamed: 0</th>\n",
       "      <th>index</th>\n",
       "      <th>amount</th>\n",
       "      <th>balance</th>\n",
       "      <th>age</th>\n",
       "      <th>month</th>\n",
       "      <th>day</th>\n",
       "      <th>dow</th>\n",
       "      <th>year</th>\n",
       "      <th>dtme</th>\n",
       "      <th>td</th>\n",
       "      <th>raw_amount</th>\n",
       "    </tr>\n",
       "  </thead>\n",
       "  <tbody>\n",
       "    <tr>\n",
       "      <th>count</th>\n",
       "      <td>100000.000000</td>\n",
       "      <td>100000.000000</td>\n",
       "      <td>100000.000000</td>\n",
       "      <td>100000.000000</td>\n",
       "      <td>100000.0</td>\n",
       "      <td>100000.000000</td>\n",
       "      <td>100000.000000</td>\n",
       "      <td>100000.000000</td>\n",
       "      <td>100000.0</td>\n",
       "      <td>100000.000000</td>\n",
       "      <td>100000.000000</td>\n",
       "      <td>100000.000000</td>\n",
       "    </tr>\n",
       "    <tr>\n",
       "      <th>mean</th>\n",
       "      <td>50000.500000</td>\n",
       "      <td>12.074430</td>\n",
       "      <td>72.764891</td>\n",
       "      <td>1288.336661</td>\n",
       "      <td>-1.0</td>\n",
       "      <td>4.550130</td>\n",
       "      <td>15.892100</td>\n",
       "      <td>2.707520</td>\n",
       "      <td>2017.0</td>\n",
       "      <td>14.658030</td>\n",
       "      <td>1.921480</td>\n",
       "      <td>286.621223</td>\n",
       "    </tr>\n",
       "    <tr>\n",
       "      <th>std</th>\n",
       "      <td>28867.657797</td>\n",
       "      <td>9.129026</td>\n",
       "      <td>765.004653</td>\n",
       "      <td>1589.131034</td>\n",
       "      <td>0.0</td>\n",
       "      <td>0.497483</td>\n",
       "      <td>8.112066</td>\n",
       "      <td>1.776375</td>\n",
       "      <td>0.0</td>\n",
       "      <td>8.318097</td>\n",
       "      <td>2.957411</td>\n",
       "      <td>713.003755</td>\n",
       "    </tr>\n",
       "    <tr>\n",
       "      <th>min</th>\n",
       "      <td>1.000000</td>\n",
       "      <td>0.000000</td>\n",
       "      <td>-2171.000000</td>\n",
       "      <td>-5602.380000</td>\n",
       "      <td>-1.0</td>\n",
       "      <td>4.000000</td>\n",
       "      <td>1.000000</td>\n",
       "      <td>0.000000</td>\n",
       "      <td>2017.0</td>\n",
       "      <td>1.000000</td>\n",
       "      <td>0.000000</td>\n",
       "      <td>-9.140000</td>\n",
       "    </tr>\n",
       "    <tr>\n",
       "      <th>25%</th>\n",
       "      <td>25000.750000</td>\n",
       "      <td>5.000000</td>\n",
       "      <td>-43.942500</td>\n",
       "      <td>192.765000</td>\n",
       "      <td>-1.0</td>\n",
       "      <td>4.000000</td>\n",
       "      <td>10.000000</td>\n",
       "      <td>1.000000</td>\n",
       "      <td>2017.0</td>\n",
       "      <td>8.000000</td>\n",
       "      <td>0.000000</td>\n",
       "      <td>14.420000</td>\n",
       "    </tr>\n",
       "    <tr>\n",
       "      <th>50%</th>\n",
       "      <td>50000.500000</td>\n",
       "      <td>10.000000</td>\n",
       "      <td>-25.000000</td>\n",
       "      <td>1192.250000</td>\n",
       "      <td>-1.0</td>\n",
       "      <td>5.000000</td>\n",
       "      <td>17.000000</td>\n",
       "      <td>3.000000</td>\n",
       "      <td>2017.0</td>\n",
       "      <td>13.000000</td>\n",
       "      <td>1.000000</td>\n",
       "      <td>32.000000</td>\n",
       "    </tr>\n",
       "    <tr>\n",
       "      <th>75%</th>\n",
       "      <td>75000.250000</td>\n",
       "      <td>19.000000</td>\n",
       "      <td>-9.710000</td>\n",
       "      <td>2232.865000</td>\n",
       "      <td>-1.0</td>\n",
       "      <td>5.000000</td>\n",
       "      <td>22.000000</td>\n",
       "      <td>4.000000</td>\n",
       "      <td>2017.0</td>\n",
       "      <td>21.000000</td>\n",
       "      <td>3.000000</td>\n",
       "      <td>54.382500</td>\n",
       "    </tr>\n",
       "    <tr>\n",
       "      <th>max</th>\n",
       "      <td>100000.000000</td>\n",
       "      <td>49.000000</td>\n",
       "      <td>6745.500000</td>\n",
       "      <td>10213.070000</td>\n",
       "      <td>-1.0</td>\n",
       "      <td>5.000000</td>\n",
       "      <td>29.000000</td>\n",
       "      <td>5.000000</td>\n",
       "      <td>2017.0</td>\n",
       "      <td>30.000000</td>\n",
       "      <td>27.000000</td>\n",
       "      <td>6745.500000</td>\n",
       "    </tr>\n",
       "  </tbody>\n",
       "</table>\n",
       "</div>"
      ],
      "text/plain": [
       "          unnamed: 0          index         amount        balance       age  \\\n",
       "count  100000.000000  100000.000000  100000.000000  100000.000000  100000.0   \n",
       "mean    50000.500000      12.074430      72.764891    1288.336661      -1.0   \n",
       "std     28867.657797       9.129026     765.004653    1589.131034       0.0   \n",
       "min         1.000000       0.000000   -2171.000000   -5602.380000      -1.0   \n",
       "25%     25000.750000       5.000000     -43.942500     192.765000      -1.0   \n",
       "50%     50000.500000      10.000000     -25.000000    1192.250000      -1.0   \n",
       "75%     75000.250000      19.000000      -9.710000    2232.865000      -1.0   \n",
       "max    100000.000000      49.000000    6745.500000   10213.070000      -1.0   \n",
       "\n",
       "               month            day            dow      year           dtme  \\\n",
       "count  100000.000000  100000.000000  100000.000000  100000.0  100000.000000   \n",
       "mean        4.550130      15.892100       2.707520    2017.0      14.658030   \n",
       "std         0.497483       8.112066       1.776375       0.0       8.318097   \n",
       "min         4.000000       1.000000       0.000000    2017.0       1.000000   \n",
       "25%         4.000000      10.000000       1.000000    2017.0       8.000000   \n",
       "50%         5.000000      17.000000       3.000000    2017.0      13.000000   \n",
       "75%         5.000000      22.000000       4.000000    2017.0      21.000000   \n",
       "max         5.000000      29.000000       5.000000    2017.0      30.000000   \n",
       "\n",
       "                  td     raw_amount  \n",
       "count  100000.000000  100000.000000  \n",
       "mean        1.921480     286.621223  \n",
       "std         2.957411     713.003755  \n",
       "min         0.000000      -9.140000  \n",
       "25%         0.000000      14.420000  \n",
       "50%         1.000000      32.000000  \n",
       "75%         3.000000      54.382500  \n",
       "max        27.000000    6745.500000  "
      ]
     },
     "execution_count": 24,
     "metadata": {},
     "output_type": "execute_result"
    }
   ],
   "source": [
    "set_raw_amount(real_df_uk)\n",
    "real_df_uk.describe()"
   ]
  },
  {
   "cell_type": "code",
   "execution_count": 21,
   "id": "3bb0b791",
   "metadata": {},
   "outputs": [
    {
     "data": {
      "text/html": [
       "<div>\n",
       "<style scoped>\n",
       "    .dataframe tbody tr th:only-of-type {\n",
       "        vertical-align: middle;\n",
       "    }\n",
       "\n",
       "    .dataframe tbody tr th {\n",
       "        vertical-align: top;\n",
       "    }\n",
       "\n",
       "    .dataframe thead th {\n",
       "        text-align: right;\n",
       "    }\n",
       "</style>\n",
       "<table border=\"1\" class=\"dataframe\">\n",
       "  <thead>\n",
       "    <tr style=\"text-align: right;\">\n",
       "      <th></th>\n",
       "      <th>unnamed: 0</th>\n",
       "      <th>index</th>\n",
       "      <th>amount</th>\n",
       "      <th>balance</th>\n",
       "      <th>age</th>\n",
       "      <th>month</th>\n",
       "      <th>day</th>\n",
       "      <th>dow</th>\n",
       "      <th>year</th>\n",
       "      <th>dtme</th>\n",
       "      <th>td</th>\n",
       "      <th>raw_amount</th>\n",
       "    </tr>\n",
       "  </thead>\n",
       "  <tbody>\n",
       "    <tr>\n",
       "      <th>count</th>\n",
       "      <td>100000.000000</td>\n",
       "      <td>100000.000000</td>\n",
       "      <td>100000.000000</td>\n",
       "      <td>100000.000000</td>\n",
       "      <td>100000.0</td>\n",
       "      <td>100000.000000</td>\n",
       "      <td>100000.000000</td>\n",
       "      <td>100000.000000</td>\n",
       "      <td>100000.0</td>\n",
       "      <td>100000.000000</td>\n",
       "      <td>100000.000000</td>\n",
       "      <td>100000.000000</td>\n",
       "    </tr>\n",
       "    <tr>\n",
       "      <th>mean</th>\n",
       "      <td>50000.500000</td>\n",
       "      <td>12.074430</td>\n",
       "      <td>72.764891</td>\n",
       "      <td>1288.336661</td>\n",
       "      <td>-1.0</td>\n",
       "      <td>4.550130</td>\n",
       "      <td>15.892100</td>\n",
       "      <td>2.707520</td>\n",
       "      <td>2017.0</td>\n",
       "      <td>14.658030</td>\n",
       "      <td>1.921480</td>\n",
       "      <td>72.764891</td>\n",
       "    </tr>\n",
       "    <tr>\n",
       "      <th>std</th>\n",
       "      <td>28867.657797</td>\n",
       "      <td>9.129026</td>\n",
       "      <td>765.004653</td>\n",
       "      <td>1589.131034</td>\n",
       "      <td>0.0</td>\n",
       "      <td>0.497483</td>\n",
       "      <td>8.112066</td>\n",
       "      <td>1.776375</td>\n",
       "      <td>0.0</td>\n",
       "      <td>8.318097</td>\n",
       "      <td>2.957411</td>\n",
       "      <td>765.004653</td>\n",
       "    </tr>\n",
       "    <tr>\n",
       "      <th>min</th>\n",
       "      <td>1.000000</td>\n",
       "      <td>0.000000</td>\n",
       "      <td>-2171.000000</td>\n",
       "      <td>-5602.380000</td>\n",
       "      <td>-1.0</td>\n",
       "      <td>4.000000</td>\n",
       "      <td>1.000000</td>\n",
       "      <td>0.000000</td>\n",
       "      <td>2017.0</td>\n",
       "      <td>1.000000</td>\n",
       "      <td>0.000000</td>\n",
       "      <td>-2171.000000</td>\n",
       "    </tr>\n",
       "    <tr>\n",
       "      <th>25%</th>\n",
       "      <td>25000.750000</td>\n",
       "      <td>5.000000</td>\n",
       "      <td>-43.942500</td>\n",
       "      <td>192.765000</td>\n",
       "      <td>-1.0</td>\n",
       "      <td>4.000000</td>\n",
       "      <td>10.000000</td>\n",
       "      <td>1.000000</td>\n",
       "      <td>2017.0</td>\n",
       "      <td>8.000000</td>\n",
       "      <td>0.000000</td>\n",
       "      <td>-43.942500</td>\n",
       "    </tr>\n",
       "    <tr>\n",
       "      <th>50%</th>\n",
       "      <td>50000.500000</td>\n",
       "      <td>10.000000</td>\n",
       "      <td>-25.000000</td>\n",
       "      <td>1192.250000</td>\n",
       "      <td>-1.0</td>\n",
       "      <td>5.000000</td>\n",
       "      <td>17.000000</td>\n",
       "      <td>3.000000</td>\n",
       "      <td>2017.0</td>\n",
       "      <td>13.000000</td>\n",
       "      <td>1.000000</td>\n",
       "      <td>-25.000000</td>\n",
       "    </tr>\n",
       "    <tr>\n",
       "      <th>75%</th>\n",
       "      <td>75000.250000</td>\n",
       "      <td>19.000000</td>\n",
       "      <td>-9.710000</td>\n",
       "      <td>2232.865000</td>\n",
       "      <td>-1.0</td>\n",
       "      <td>5.000000</td>\n",
       "      <td>22.000000</td>\n",
       "      <td>4.000000</td>\n",
       "      <td>2017.0</td>\n",
       "      <td>21.000000</td>\n",
       "      <td>3.000000</td>\n",
       "      <td>-9.710000</td>\n",
       "    </tr>\n",
       "    <tr>\n",
       "      <th>max</th>\n",
       "      <td>100000.000000</td>\n",
       "      <td>49.000000</td>\n",
       "      <td>6745.500000</td>\n",
       "      <td>10213.070000</td>\n",
       "      <td>-1.0</td>\n",
       "      <td>5.000000</td>\n",
       "      <td>29.000000</td>\n",
       "      <td>5.000000</td>\n",
       "      <td>2017.0</td>\n",
       "      <td>30.000000</td>\n",
       "      <td>27.000000</td>\n",
       "      <td>6745.500000</td>\n",
       "    </tr>\n",
       "  </tbody>\n",
       "</table>\n",
       "</div>"
      ],
      "text/plain": [
       "          unnamed: 0          index         amount        balance       age  \\\n",
       "count  100000.000000  100000.000000  100000.000000  100000.000000  100000.0   \n",
       "mean    50000.500000      12.074430      72.764891    1288.336661      -1.0   \n",
       "std     28867.657797       9.129026     765.004653    1589.131034       0.0   \n",
       "min         1.000000       0.000000   -2171.000000   -5602.380000      -1.0   \n",
       "25%     25000.750000       5.000000     -43.942500     192.765000      -1.0   \n",
       "50%     50000.500000      10.000000     -25.000000    1192.250000      -1.0   \n",
       "75%     75000.250000      19.000000      -9.710000    2232.865000      -1.0   \n",
       "max    100000.000000      49.000000    6745.500000   10213.070000      -1.0   \n",
       "\n",
       "               month            day            dow      year           dtme  \\\n",
       "count  100000.000000  100000.000000  100000.000000  100000.0  100000.000000   \n",
       "mean        4.550130      15.892100       2.707520    2017.0      14.658030   \n",
       "std         0.497483       8.112066       1.776375       0.0       8.318097   \n",
       "min         4.000000       1.000000       0.000000    2017.0       1.000000   \n",
       "25%         4.000000      10.000000       1.000000    2017.0       8.000000   \n",
       "50%         5.000000      17.000000       3.000000    2017.0      13.000000   \n",
       "75%         5.000000      22.000000       4.000000    2017.0      21.000000   \n",
       "max         5.000000      29.000000       5.000000    2017.0      30.000000   \n",
       "\n",
       "                  td     raw_amount  \n",
       "count  100000.000000  100000.000000  \n",
       "mean        1.921480      72.764891  \n",
       "std         2.957411     765.004653  \n",
       "min         0.000000   -2171.000000  \n",
       "25%         0.000000     -43.942500  \n",
       "50%         1.000000     -25.000000  \n",
       "75%         3.000000      -9.710000  \n",
       "max        27.000000    6745.500000  "
      ]
     },
     "execution_count": 21,
     "metadata": {},
     "output_type": "execute_result"
    }
   ],
   "source": [
    "real_df_uk.describe()"
   ]
  },
  {
   "cell_type": "code",
   "execution_count": 28,
   "id": "e21d3781-d05a-4919-a183-f678c8e7fe39",
   "metadata": {},
   "outputs": [
    {
     "data": {
      "text/plain": [
       "[-87400.0, 74812.0]"
      ]
     },
     "execution_count": 28,
     "metadata": {},
     "output_type": "execute_result"
    }
   ],
   "source": [
    "[real_df_cz.raw_amount.min(),real_df_cz.raw_amount.max()]"
   ]
  },
  {
   "cell_type": "code",
   "execution_count": 35,
   "id": "b0a57182-e396-4478-8157-065827bf0537",
   "metadata": {},
   "outputs": [
    {
     "data": {
      "text/html": [
       "<div>\n",
       "<style scoped>\n",
       "    .dataframe tbody tr th:only-of-type {\n",
       "        vertical-align: middle;\n",
       "    }\n",
       "\n",
       "    .dataframe tbody tr th {\n",
       "        vertical-align: top;\n",
       "    }\n",
       "\n",
       "    .dataframe thead th {\n",
       "        text-align: right;\n",
       "    }\n",
       "</style>\n",
       "<table border=\"1\" class=\"dataframe\">\n",
       "  <thead>\n",
       "    <tr style=\"text-align: right;\">\n",
       "      <th></th>\n",
       "      <th>index</th>\n",
       "      <th>raw_amount</th>\n",
       "    </tr>\n",
       "  </thead>\n",
       "  <tbody>\n",
       "    <tr>\n",
       "      <th>1</th>\n",
       "      <td>mean</td>\n",
       "      <td>186.639739</td>\n",
       "    </tr>\n",
       "    <tr>\n",
       "      <th>2</th>\n",
       "      <td>std</td>\n",
       "      <td>11213.527089</td>\n",
       "    </tr>\n",
       "    <tr>\n",
       "      <th>3</th>\n",
       "      <td>min</td>\n",
       "      <td>-87400.000000</td>\n",
       "    </tr>\n",
       "    <tr>\n",
       "      <th>4</th>\n",
       "      <td>25%</td>\n",
       "      <td>-3019.000000</td>\n",
       "    </tr>\n",
       "    <tr>\n",
       "      <th>5</th>\n",
       "      <td>50%</td>\n",
       "      <td>-14.600000</td>\n",
       "    </tr>\n",
       "    <tr>\n",
       "      <th>6</th>\n",
       "      <td>75%</td>\n",
       "      <td>200.000000</td>\n",
       "    </tr>\n",
       "    <tr>\n",
       "      <th>7</th>\n",
       "      <td>max</td>\n",
       "      <td>74812.000000</td>\n",
       "    </tr>\n",
       "  </tbody>\n",
       "</table>\n",
       "</div>"
      ],
      "text/plain": [
       "  index    raw_amount\n",
       "1  mean    186.639739\n",
       "2   std  11213.527089\n",
       "3   min -87400.000000\n",
       "4   25%  -3019.000000\n",
       "5   50%    -14.600000\n",
       "6   75%    200.000000\n",
       "7   max  74812.000000"
      ]
     },
     "execution_count": 35,
     "metadata": {},
     "output_type": "execute_result"
    }
   ],
   "source": [
    "real_df_cz.raw_amount.describe().reset_index().iloc[1:]"
   ]
  },
  {
   "cell_type": "code",
   "execution_count": 37,
   "id": "a785f3c5-8b8a-4c5f-bbdd-285c320984fa",
   "metadata": {},
   "outputs": [
    {
     "data": {
      "text/html": [
       "<div>\n",
       "<style scoped>\n",
       "    .dataframe tbody tr th:only-of-type {\n",
       "        vertical-align: middle;\n",
       "    }\n",
       "\n",
       "    .dataframe tbody tr th {\n",
       "        vertical-align: top;\n",
       "    }\n",
       "\n",
       "    .dataframe thead th {\n",
       "        text-align: right;\n",
       "    }\n",
       "</style>\n",
       "<table border=\"1\" class=\"dataframe\">\n",
       "  <thead>\n",
       "    <tr style=\"text-align: right;\">\n",
       "      <th></th>\n",
       "      <th>index</th>\n",
       "      <th>tcode</th>\n",
       "    </tr>\n",
       "  </thead>\n",
       "  <tbody>\n",
       "    <tr>\n",
       "      <th>1</th>\n",
       "      <td>unique</td>\n",
       "      <td>16</td>\n",
       "    </tr>\n",
       "    <tr>\n",
       "      <th>2</th>\n",
       "      <td>top</td>\n",
       "      <td>DEBIT__CASH WITHDRAWAL__nan</td>\n",
       "    </tr>\n",
       "    <tr>\n",
       "      <th>3</th>\n",
       "      <td>freq</td>\n",
       "      <td>274059</td>\n",
       "    </tr>\n",
       "  </tbody>\n",
       "</table>\n",
       "</div>"
      ],
      "text/plain": [
       "    index                        tcode\n",
       "1  unique                           16\n",
       "2     top  DEBIT__CASH WITHDRAWAL__nan\n",
       "3    freq                       274059"
      ]
     },
     "execution_count": 37,
     "metadata": {},
     "output_type": "execute_result"
    }
   ],
   "source": [
    "real_df_cz.tcode.describe().reset_index().iloc[1:]"
   ]
  },
  {
   "cell_type": "code",
   "execution_count": 29,
   "id": "ae627e7f-f29d-4d3b-8fcc-acf957219693",
   "metadata": {},
   "outputs": [
    {
     "data": {
      "text/plain": [
       "[-9.14, 6745.5]"
      ]
     },
     "execution_count": 29,
     "metadata": {},
     "output_type": "execute_result"
    }
   ],
   "source": [
    "[real_df_uk.raw_amount.min(),real_df_uk.raw_amount.max()]"
   ]
  },
  {
   "cell_type": "code",
   "execution_count": 36,
   "id": "93e58dfd-8363-4908-9d0f-43d93bce48d7",
   "metadata": {},
   "outputs": [
    {
     "data": {
      "text/html": [
       "<div>\n",
       "<style scoped>\n",
       "    .dataframe tbody tr th:only-of-type {\n",
       "        vertical-align: middle;\n",
       "    }\n",
       "\n",
       "    .dataframe tbody tr th {\n",
       "        vertical-align: top;\n",
       "    }\n",
       "\n",
       "    .dataframe thead th {\n",
       "        text-align: right;\n",
       "    }\n",
       "</style>\n",
       "<table border=\"1\" class=\"dataframe\">\n",
       "  <thead>\n",
       "    <tr style=\"text-align: right;\">\n",
       "      <th></th>\n",
       "      <th>index</th>\n",
       "      <th>raw_amount</th>\n",
       "    </tr>\n",
       "  </thead>\n",
       "  <tbody>\n",
       "    <tr>\n",
       "      <th>1</th>\n",
       "      <td>mean</td>\n",
       "      <td>286.621223</td>\n",
       "    </tr>\n",
       "    <tr>\n",
       "      <th>2</th>\n",
       "      <td>std</td>\n",
       "      <td>713.003755</td>\n",
       "    </tr>\n",
       "    <tr>\n",
       "      <th>3</th>\n",
       "      <td>min</td>\n",
       "      <td>-9.140000</td>\n",
       "    </tr>\n",
       "    <tr>\n",
       "      <th>4</th>\n",
       "      <td>25%</td>\n",
       "      <td>14.420000</td>\n",
       "    </tr>\n",
       "    <tr>\n",
       "      <th>5</th>\n",
       "      <td>50%</td>\n",
       "      <td>32.000000</td>\n",
       "    </tr>\n",
       "    <tr>\n",
       "      <th>6</th>\n",
       "      <td>75%</td>\n",
       "      <td>54.382500</td>\n",
       "    </tr>\n",
       "    <tr>\n",
       "      <th>7</th>\n",
       "      <td>max</td>\n",
       "      <td>6745.500000</td>\n",
       "    </tr>\n",
       "  </tbody>\n",
       "</table>\n",
       "</div>"
      ],
      "text/plain": [
       "  index   raw_amount\n",
       "1  mean   286.621223\n",
       "2   std   713.003755\n",
       "3   min    -9.140000\n",
       "4   25%    14.420000\n",
       "5   50%    32.000000\n",
       "6   75%    54.382500\n",
       "7   max  6745.500000"
      ]
     },
     "execution_count": 36,
     "metadata": {},
     "output_type": "execute_result"
    }
   ],
   "source": [
    "real_df_uk.raw_amount.describe().reset_index().iloc[1:]"
   ]
  },
  {
   "cell_type": "code",
   "execution_count": 38,
   "id": "d5439fba-52dc-4778-8884-7edf4fc072fd",
   "metadata": {},
   "outputs": [
    {
     "data": {
      "text/html": [
       "<div>\n",
       "<style scoped>\n",
       "    .dataframe tbody tr th:only-of-type {\n",
       "        vertical-align: middle;\n",
       "    }\n",
       "\n",
       "    .dataframe tbody tr th {\n",
       "        vertical-align: top;\n",
       "    }\n",
       "\n",
       "    .dataframe thead th {\n",
       "        text-align: right;\n",
       "    }\n",
       "</style>\n",
       "<table border=\"1\" class=\"dataframe\">\n",
       "  <thead>\n",
       "    <tr style=\"text-align: right;\">\n",
       "      <th></th>\n",
       "      <th>index</th>\n",
       "      <th>tcode</th>\n",
       "    </tr>\n",
       "  </thead>\n",
       "  <tbody>\n",
       "    <tr>\n",
       "      <th>1</th>\n",
       "      <td>unique</td>\n",
       "      <td>44</td>\n",
       "    </tr>\n",
       "    <tr>\n",
       "      <th>2</th>\n",
       "      <td>top</td>\n",
       "      <td>Groceries - Food &amp; Drinks__Card Transaction__D...</td>\n",
       "    </tr>\n",
       "    <tr>\n",
       "      <th>3</th>\n",
       "      <td>freq</td>\n",
       "      <td>24779</td>\n",
       "    </tr>\n",
       "  </tbody>\n",
       "</table>\n",
       "</div>"
      ],
      "text/plain": [
       "    index                                              tcode\n",
       "1  unique                                                 44\n",
       "2     top  Groceries - Food & Drinks__Card Transaction__D...\n",
       "3    freq                                              24779"
      ]
     },
     "execution_count": 38,
     "metadata": {},
     "output_type": "execute_result"
    }
   ],
   "source": [
    "real_df_uk.tcode.describe().reset_index().iloc[1:]"
   ]
  },
  {
   "cell_type": "code",
   "execution_count": 31,
   "id": "638977d3-089b-4872-8ef5-f8e6c716b888",
   "metadata": {},
   "outputs": [
    {
     "data": {
      "text/plain": [
       "count    4500.000000\n",
       "mean      234.737778\n",
       "std       126.849443\n",
       "min         9.000000\n",
       "25%       133.000000\n",
       "50%       208.000000\n",
       "75%       330.000000\n",
       "max       675.000000\n",
       "dtype: float64"
      ]
     },
     "execution_count": 31,
     "metadata": {},
     "output_type": "execute_result"
    }
   ],
   "source": [
    "real_df_cz.groupby(\"account_id\").size().describe()"
   ]
  },
  {
   "cell_type": "code",
   "execution_count": 32,
   "id": "a72ad593-a6a9-4c2a-9427-fcd8f54f363c",
   "metadata": {},
   "outputs": [
    {
     "data": {
      "text/plain": [
       "count    5000.000000\n",
       "mean       20.000000\n",
       "std        10.148783\n",
       "min         2.000000\n",
       "25%        11.000000\n",
       "50%        17.500000\n",
       "75%        29.000000\n",
       "max        50.000000\n",
       "dtype: float64"
      ]
     },
     "execution_count": 32,
     "metadata": {},
     "output_type": "execute_result"
    }
   ],
   "source": [
    "real_df_uk.groupby(\"account_id\").size().describe()"
   ]
  },
  {
   "cell_type": "code",
   "execution_count": null,
   "id": "d43d3ee2-aa99-466b-9482-1419ed047a83",
   "metadata": {},
   "outputs": [],
   "source": []
  }
 ],
 "metadata": {
  "kernelspec": {
   "display_name": "Python 3 (ipykernel)",
   "language": "python",
   "name": "python3"
  },
  "language_info": {
   "codemirror_mode": {
    "name": "ipython",
    "version": 3
   },
   "file_extension": ".py",
   "mimetype": "text/x-python",
   "name": "python",
   "nbconvert_exporter": "python",
   "pygments_lexer": "ipython3",
   "version": "3.9.7"
  }
 },
 "nbformat": 4,
 "nbformat_minor": 5
}
